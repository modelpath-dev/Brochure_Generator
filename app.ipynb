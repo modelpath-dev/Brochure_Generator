{
 "cells": [
  {
   "cell_type": "code",
   "execution_count": 1,
   "metadata": {},
   "outputs": [],
   "source": [
    "import os\n",
    "import requests\n",
    "from bs4 import BeautifulSoup\n",
    "import json \n",
    "from dotenv import load_dotenv\n",
    "from typing import List\n",
    "from IPython.display import Markdown, display, update_display\n",
    "from openai import OpenAI"
   ]
  },
  {
   "cell_type": "code",
   "execution_count": 3,
   "metadata": {},
   "outputs": [
    {
     "name": "stdout",
     "output_type": "stream",
     "text": [
      "API key wrking fine\n"
     ]
    }
   ],
   "source": [
    "load_dotenv(override=True)\n",
    "api_key = os.getenv('OPENAI_API_KEY')\n",
    "\n",
    "if api_key and api_key.startswith('sk-proj-') and len(api_key)>10:\n",
    "    print(\"API key wrking fine\")\n",
    "else:\n",
    "    print(\"Check api key again\")\n",
    "    \n",
    "MODEL = 'gpt-4o-mini'\n",
    "openai = OpenAI()"
   ]
  },
  {
   "cell_type": "code",
   "execution_count": 4,
   "metadata": {},
   "outputs": [],
   "source": [
    "header={\n",
    "    'User-Agent': 'Mozilla/5.0 (Windows NT 10.0; Win64; x64) AppleWebKit/537.36 (KHTML, like Gecko) Chrome/117.0.0.0 Safari/537.36'\n",
    "}\n",
    "\n",
    "class Website:\n",
    "    def __init__(self,url):\n",
    "        self.url=url\n",
    "        response=requests.get(url, headers=header)\n",
    "        self.body=response.content\n",
    "        soup=BeautifulSoup(self.body, 'html.parser')\n",
    "        self.title=soup.title.string if soup.title else \"No title found\"\n",
    "        if soup.body:\n",
    "            for faaltu in soup.body(['script', 'style','img','input']):\n",
    "                faaltu.decompose()\n",
    "            self.text=soup.body.get_text(separator='\\n', strip=True)\n",
    "        else:\n",
    "            self.text=\"\"\n",
    "        links=[link.get('href') for link in soup.find_all('a')]\n",
    "        self.links=[link for link in links if link]\n",
    "\n",
    "    def get_contents(self):\n",
    "        return f\"Webpage Title:\\n{self.title}\\nWebpage Contents:\\n{self.text}\\n\\n\""
   ]
  },
  {
   "cell_type": "code",
   "execution_count": 5,
   "metadata": {},
   "outputs": [],
   "source": [
    "system_prompt=\"You are provided with a list of links found on a webpage. \\\n",
    "You are able to decide which of the links would be most relevant to include in a brochure about the company, \\\n",
    "such as links to an About page, or a Company page, or Careers/Jobs pages.\\n\"\n",
    "\n",
    "system_prompt+='You should respond in JSON as in this example:'\n",
    "system_prompt+=\"\"\"\n",
    "{\n",
    "    \"links\": [\n",
    "        {\"type\": \"about page\", \"url\": \"https://full.url/goes/here/about\"},\n",
    "        {\"type\": \"careers page\": \"url\": \"https://another.full.url/careers\"}\n",
    "    ]\n",
    "}\n",
    "\"\"\""
   ]
  },
  {
   "cell_type": "code",
   "execution_count": 6,
   "metadata": {},
   "outputs": [],
   "source": [
    "def get_user_prompt(website):\n",
    "    user_prompt=f'Here is the list of links on the website of {website.url} - '\n",
    "    user_prompt+=\"please decide which of these are relevant web links  for a brochure about the company, respond with the full https URL in JSON format. \\\n",
    "        do not include Terms of Service, Privacy, email links.\\n\"\n",
    "    user_prompt+=\"Links (some might be relative links):\\nGive the output strictly in python list form\"\n",
    "    user_prompt+=\"\\n\".join(website.links)\n",
    "\n",
    "    return user_prompt"
   ]
  },
  {
   "cell_type": "code",
   "execution_count": null,
   "metadata": {},
   "outputs": [],
   "source": []
  },
  {
   "cell_type": "code",
   "execution_count": 7,
   "metadata": {},
   "outputs": [],
   "source": [
    "def get_links(url):\n",
    "    website=Website(url)\n",
    "    response=openai.chat.completions.create(\n",
    "        model=MODEL,\n",
    "        messages=[\n",
    "            {\"role\": \"system\", \"content\":system_prompt},\n",
    "            {\"role\":\"user\", \"content\": get_user_prompt(website)}\n",
    "        ],\n",
    "\n",
    "            response_format={\"type\":\"json_object\"}\n",
    "    )\n",
    "    result=response.choices[0].message.content\n",
    "    return json.loads(result)\n",
    "    "
   ]
  },
  {
   "cell_type": "code",
   "execution_count": 8,
   "metadata": {},
   "outputs": [],
   "source": [
    "class ConnectTimeout(Exception):\n",
    "    \"\"\"Custom exception for connection timeout.\"\"\"\n",
    "    pass\n"
   ]
  },
  {
   "cell_type": "code",
   "execution_count": 9,
   "metadata": {},
   "outputs": [],
   "source": [
    "import time\n",
    "\n",
    "def retry(url, retries=5, delay=2):\n",
    "    for attempt in range(retries):\n",
    "        try:\n",
    "            return Website(url).get_contents()  \n",
    "        except (ConnectTimeout, TimeoutError, Exception) as e:\n",
    "            print(f\"Error occurred for {url}: {e}. Attempt {attempt + 1} of {retries}.\")\n",
    "            time.sleep(delay)  \n",
    "    print(f\"Skipping {url} after {retries} failed attempts.\")\n",
    "    return f\"Failed to retrieve contents for {url}\\n\"\n",
    "\n",
    "def get_details(url):\n",
    "    result = \"Landing page:\\n\"\n",
    "    result += retry(url)  \n",
    "    links = get_links(url)\n",
    "    print(\"Found links:\", links)\n",
    "    \n",
    "    key_to_check = next(iter(links), None) \n",
    "    \n",
    "    if key_to_check == 'links':\n",
    "        for link in links[\"links\"]:\n",
    "            result += f\"\\n\\n{link}\\n\"\n",
    "            result += retry(link)  \n",
    "    elif key_to_check == 'relevant_links':\n",
    "        for link in links[\"relevant_links\"]:\n",
    "            result += f\"\\n\\n{link}\\n\"\n",
    "            result += retry(link)  \n",
    "    else:\n",
    "        result += \"\\nNo relevant links found.\\n\"\n",
    "    \n",
    "    return result\n"
   ]
  },
  {
   "cell_type": "code",
   "execution_count": 10,
   "metadata": {},
   "outputs": [],
   "source": [
    "system_prompt = \"You are an assistant that analyzes the contents of several relevant pages from a website ( it can be company website, college club website, someone's portfolio) so be prepared \\\n",
    "and creates a short humorous, entertaining, jokey brochure about the company for prospective customers, investors and recruits. Respond in markdown.\\\n",
    "Include details of company culture, customers and careers/jobs if you have the information.\""
   ]
  },
  {
   "cell_type": "code",
   "execution_count": 11,
   "metadata": {},
   "outputs": [],
   "source": [
    "def brochure_user_prompt(company_name, url):\n",
    "    user_prompt = f\"You are looking at a company called: {company_name}\\n\"\n",
    "    user_prompt += f\"Here are the contents of its landing page and other relevant pages; use this information to build a professional brief brochure of the website in markdown.At footer always give the contacts link of their social media handles (except phone number) if available\\n\"\n",
    "    user_prompt += get_details(url)\n",
    "    user_prompt = user_prompt[:5_000] \n",
    "    return user_prompt"
   ]
  },
  {
   "cell_type": "code",
   "execution_count": 12,
   "metadata": {},
   "outputs": [],
   "source": [
    "def create_brochure(company_name, url):\n",
    "    response = openai.chat.completions.create(\n",
    "        model=MODEL,\n",
    "        messages=[\n",
    "            {\"role\": \"system\", \"content\": system_prompt},\n",
    "            {\"role\": \"user\", \"content\": brochure_user_prompt(company_name, url)}\n",
    "          ],\n",
    "    )\n",
    "    result = response.choices[0].message.content\n",
    "    display(Markdown(result))"
   ]
  },
  {
   "cell_type": "code",
   "execution_count": 13,
   "metadata": {},
   "outputs": [],
   "source": [
    "def stream_brochure(company_name, url):\n",
    "    stream = openai.chat.completions.create(\n",
    "        model=MODEL,\n",
    "        messages=[\n",
    "            {\"role\": \"system\", \"content\": system_prompt},\n",
    "            {\"role\": \"user\", \"content\": brochure_user_prompt(company_name, url)}\n",
    "          ],\n",
    "        stream=True\n",
    "    )\n",
    "    \n",
    "    response = \"\"\n",
    "    display_handle = display(Markdown(\"\"), display_id=True)\n",
    "    for chunk in stream:\n",
    "        response += chunk.choices[0].delta.content or ''\n",
    "        response = response.replace(\"```\",\"\").replace(\"markdown\", \"\")\n",
    "        update_display(Markdown(response), display_id=display_handle.display_id)"
   ]
  },
  {
   "cell_type": "code",
   "execution_count": 15,
   "metadata": {},
   "outputs": [
    {
     "name": "stdout",
     "output_type": "stream",
     "text": [
      "Found links: {'relevant_links': ['https://about.google/?fg=1&utm_source=google-IN&utm_medium=referral&utm_campaign=hp-header', 'https://store.google.com/IN?utm_source=hp_header&utm_medium=google_ooo&utm_campaign=GS100042&hl=en-IN', 'https://www.google.co.in/intl/en/about/products', 'https://www.google.com/intl/en_in/ads/?subid=ww-ww-et-g-awa-a-g_hpafoot1_1!o2&utm_source=google.com&utm_medium=referral&utm_campaign=google_hpafooter&fg=1', 'https://www.google.com/services/?subid=ww-ww-et-g-awa-a-g_hpbfoot1_1!o2&utm_source=google.com&utm_medium=referral&utm_campaign=google_hpbfooter&fg=1', 'https://google.com/search/howsearchworks/?fg=1', 'https://www.google.com/preferences?hl=en-IN&fg=1', 'https://support.google.com/websearch/?p=ws_results_help&hl=en-IN&fg=1']}\n"
     ]
    },
    {
     "data": {
      "text/markdown": [
       "# Welcome to Google: Your Gateway to the Universe (and Cats!)\n",
       "\n",
       "---\n",
       "\n",
       "## Who Are We?\n",
       "\n",
       "Welcome to Google, where our mission is to **organize the world's information** and make it as universally useful as your mom’s advice! We’re on a quest to make life easier one search at a time. Seriously, how else would you know how to fix a leaky tap or bake a soufflé? \n",
       "\n",
       "---\n",
       "\n",
       "## Our Products - More Than Just Search!\n",
       "\n",
       "**Behold the Google Store!** From phones that are smarter than most of us (hello, Pixel 9 Pro!) to earbuds that whisper sweet nothings into your ears (we're talking about the Pixel Buds Pro 2), we’ve got everything to suit your digital fancy! 🌈\n",
       "\n",
       "### The Must-Haves:\n",
       "- **Pixel 9 Pro & Pro XL** - Pure magic at your fingertips! ✨\n",
       "- **Pixel Watch 3** - Because your wrist deserves to be just as smart as your brain! ⌚\n",
       "- **Nest Audio** - Transform your home into a mini concert hall! 🎶\n",
       "\n",
       "---\n",
       "\n",
       "## Google Culture: A Family of Innovators!\n",
       "\n",
       "At Google, our culture is all about **inclusion** and **innovation**—and snacks. Lots and lots of snacks. Whether you're collaborating on a new idea or wondering where the fresh cookies went, you’ll feel right at home here. \n",
       "\n",
       "We believe in **unlocking opportunities** and providing a workspace where creativity reigns supreme. \n",
       "\n",
       "- **Flexible Work Hours** - Because who doesn't want to work in their pajamas sometimes?\n",
       "- **Mental Health Support** - Take a break, meditate, and breathe. We promise not to judge if you have that extra donut. 🍩\n",
       "  \n",
       "---\n",
       "\n",
       "## Careers - We're Hiring!\n",
       "\n",
       "Looking to launch your career into the stratosphere? 🌌 Join us! We’re on the lookout for **creative geniuses**, **coding wizards**, and **problem-solving ninjas**. If you can juggle multiple tasks while reciting cat memes, you might be the one we're looking for!\n",
       "\n",
       "### Why Work with Us?\n",
       "- **Opportunity to Change the World** - And also to understand why everyone thinks cats rule the internet.\n",
       "- **Competitive Pay** - Because your talents deserve more than just a “Thank You!”\n",
       "- **Endless Opportunities for Growth** - Literally, we’ll keep providing you challenges until you beg us to stop. \n",
       "\n",
       "---\n",
       "\n",
       "## Join Us on Our Quest!\n",
       "\n",
       "For collaboration, support, and all things fun, check out our various platforms:\n",
       "- **Facebook**: [Google on Facebook](https://www.facebook.com/Google)\n",
       "- **Twitter**: [Google on Twitter](https://twitter.com/google)\n",
       "- **Instagram**: [Google on Instagram](https://www.instagram.com/google)\n",
       "\n",
       "Looking to dive deeper? Visit our [website](https://about.google) and explore our universe of possibilities. \n",
       "\n",
       "---\n",
       "\n",
       "**Google: Making sense of the world one search at a time!**"
      ],
      "text/plain": [
       "<IPython.core.display.Markdown object>"
      ]
     },
     "metadata": {},
     "output_type": "display_data"
    }
   ],
   "source": [
    "stream_brochure(\"Google\", \"https://www.google.com\")"
   ]
  }
 ],
 "metadata": {
  "kernelspec": {
   "display_name": "llms",
   "language": "python",
   "name": "python3"
  },
  "language_info": {
   "codemirror_mode": {
    "name": "ipython",
    "version": 3
   },
   "file_extension": ".py",
   "mimetype": "text/x-python",
   "name": "python",
   "nbconvert_exporter": "python",
   "pygments_lexer": "ipython3",
   "version": "3.11.11"
  }
 },
 "nbformat": 4,
 "nbformat_minor": 2
}
