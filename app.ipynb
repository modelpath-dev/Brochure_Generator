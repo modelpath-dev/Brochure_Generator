{
 "cells": [
  {
   "cell_type": "code",
   "execution_count": 1,
   "metadata": {},
   "outputs": [],
   "source": [
    "import os\n",
    "import requests\n",
    "from bs4 import BeautifulSoup\n",
    "import json \n",
    "from dotenv import load_dotenv\n",
    "from typing import List\n",
    "from IPython.display import Markdown, display, update_display\n",
    "from openai import OpenAI"
   ]
  },
  {
   "cell_type": "code",
   "execution_count": 2,
   "metadata": {},
   "outputs": [
    {
     "name": "stdout",
     "output_type": "stream",
     "text": [
      "API key wrking fine\n"
     ]
    }
   ],
   "source": [
    "load_dotenv(override=True)\n",
    "api_key = os.getenv('OPENAI_API_KEY')\n",
    "\n",
    "if api_key and api_key.startswith('sk-proj-') and len(api_key)>10:\n",
    "    print(\"API key wrking fine\")\n",
    "else:\n",
    "    print(\"Check api key again\")\n",
    "    \n",
    "MODEL = 'gpt-4o-mini'\n",
    "openai = OpenAI()"
   ]
  },
  {
   "cell_type": "code",
   "execution_count": 3,
   "metadata": {},
   "outputs": [],
   "source": [
    "header={\n",
    "    'User-Agent': 'Mozilla/5.0 (Windows NT 10.0; Win64; x64) AppleWebKit/537.36 (KHTML, like Gecko) Chrome/117.0.0.0 Safari/537.36'\n",
    "}\n",
    "\n",
    "class Website:\n",
    "    def __init__(self,url):\n",
    "        self.url=url\n",
    "        response=requests.get(url, headers=header)\n",
    "        self.body=response.content\n",
    "        soup=BeautifulSoup(self.body, 'html.parser')\n",
    "        self.title=soup.title.string if soup.title else \"No title found\"\n",
    "        if soup.body:\n",
    "            for faaltu in soup.body(['script', 'style','img','input']):\n",
    "                faaltu.decompose()\n",
    "            self.text=soup.body.get_text(separator='\\n', strip=True)\n",
    "        else:\n",
    "            self.text=\"\"\n",
    "        links=[link.get('href') for link in soup.find_all('a')]\n",
    "        self.links=[link for link in links if link]\n",
    "\n",
    "    def get_contents(self):\n",
    "        return f\"Webpage Title:\\n{self.title}\\nWebpage Contents:\\n{self.text}\\n\\n\""
   ]
  },
  {
   "cell_type": "code",
   "execution_count": 4,
   "metadata": {},
   "outputs": [],
   "source": [
    "system_prompt=\"You are provided with a list of links found on a webpage. \\\n",
    "You are able to decide which of the links would be most relevant to include in a brochure about the company, \\\n",
    "such as links to an About page, or a Company page, or Careers/Jobs pages.\\n\"\n",
    "\n",
    "system_prompt+='You should respond in JSON as in this example:'\n",
    "system_prompt+=\"\"\"\n",
    "{\n",
    "    \"links\": [\n",
    "        {\"type\": \"about page\", \"url\": \"https://full.url/goes/here/about\"},\n",
    "        {\"type\": \"careers page\": \"url\": \"https://another.full.url/careers\"}\n",
    "    ]\n",
    "}\n",
    "\"\"\""
   ]
  },
  {
   "cell_type": "code",
   "execution_count": 5,
   "metadata": {},
   "outputs": [],
   "source": [
    "def get_user_prompt(website):\n",
    "    user_prompt=f'Here is the list of links on the website of {website.url} - '\n",
    "    user_prompt+=\"please decide which of these are relevant web links  for a brochure about the company, respond with the full https URL in JSON format. \\\n",
    "        do not include Terms of Service, Privacy, email links.\\n\"\n",
    "    user_prompt+=\"Links (some might be relative links):\\nGive the output strictly in python list form\"\n",
    "    user_prompt+=\"\\n\".join(website.links)\n",
    "\n",
    "    return user_prompt"
   ]
  },
  {
   "cell_type": "code",
   "execution_count": null,
   "metadata": {},
   "outputs": [],
   "source": []
  },
  {
   "cell_type": "code",
   "execution_count": 6,
   "metadata": {},
   "outputs": [],
   "source": [
    "def get_links(url):\n",
    "    website=Website(url)\n",
    "    response=openai.chat.completions.create(\n",
    "        model=MODEL,\n",
    "        messages=[\n",
    "            {\"role\": \"system\", \"content\":system_prompt},\n",
    "            {\"role\":\"user\", \"content\": get_user_prompt(website)}\n",
    "        ],\n",
    "\n",
    "            response_format={\"type\":\"json_object\"}\n",
    "    )\n",
    "    result=response.choices[0].message.content\n",
    "    return json.loads(result)\n",
    "    "
   ]
  },
  {
   "cell_type": "code",
   "execution_count": 13,
   "metadata": {},
   "outputs": [],
   "source": [
    "import time\n",
    "\n",
    "def retry(url, retries=5, delay=2):\n",
    "    for attempt in range(retries):\n",
    "        try:\n",
    "            return Website(url).get_contents()  \n",
    "        except (ConnectTimeout, TimeoutError, Exception) as e:\n",
    "            print(f\"Error occurred for {url}: {e}. Attempt {attempt + 1} of {retries}.\")\n",
    "            time.sleep(delay)  \n",
    "    print(f\"Skipping {url} after {retries} failed attempts.\")\n",
    "    return f\"Failed to retrieve contents for {url}\\n\"\n",
    "\n",
    "def get_details(url):\n",
    "    result = \"Landing page:\\n\"\n",
    "    result += retry(url)  \n",
    "    links = get_links(url)\n",
    "    print(\"Found links:\", links)\n",
    "    \n",
    "    key_to_check = next(iter(links), None) \n",
    "    \n",
    "    if key_to_check == 'links':\n",
    "        for link in links[\"links\"]:\n",
    "            result += f\"\\n\\n{link}\\n\"\n",
    "            result += retry(link)  \n",
    "    elif key_to_check == 'relevant_links':\n",
    "        for link in links[\"relevant_links\"]:\n",
    "            result += f\"\\n\\n{link}\\n\"\n",
    "            result += retry(link)  \n",
    "    else:\n",
    "        result += \"\\nNo relevant links found.\\n\"\n",
    "    \n",
    "    return result\n"
   ]
  },
  {
   "cell_type": "code",
   "execution_count": 14,
   "metadata": {},
   "outputs": [],
   "source": [
    "system_prompt = \"You are an assistant that analyzes the contents of several relevant pages from a website ( it can be company website, college club website, someone's portfolio) so be prepared \\\n",
    "and creates a short humorous, entertaining, jokey brochure about the company for prospective customers, investors and recruits. Respond in markdown.\\\n",
    "Include details of company culture, customers and careers/jobs if you have the information.\""
   ]
  },
  {
   "cell_type": "code",
   "execution_count": 15,
   "metadata": {},
   "outputs": [],
   "source": [
    "def brochure_user_prompt(company_name, url):\n",
    "    user_prompt = f\"You are looking at a company called: {company_name}\\n\"\n",
    "    user_prompt += f\"Here are the contents of its landing page and other relevant pages; use this information to build a professional brief brochure of the website in markdown.At footer always give the contacts link of their social media handles (except phone number) if available\\n\"\n",
    "    user_prompt += get_details(url)\n",
    "    user_prompt = user_prompt[:5_000] \n",
    "    return user_prompt"
   ]
  },
  {
   "cell_type": "code",
   "execution_count": 17,
   "metadata": {},
   "outputs": [],
   "source": [
    "def create_brochure(company_name, url):\n",
    "    response = openai.chat.completions.create(\n",
    "        model=MODEL,\n",
    "        messages=[\n",
    "            {\"role\": \"system\", \"content\": system_prompt},\n",
    "            {\"role\": \"user\", \"content\": brochure_user_prompt(company_name, url)}\n",
    "          ],\n",
    "    )\n",
    "    result = response.choices[0].message.content\n",
    "    display(Markdown(result))"
   ]
  },
  {
   "cell_type": "code",
   "execution_count": 18,
   "metadata": {},
   "outputs": [],
   "source": [
    "def stream_brochure(company_name, url):\n",
    "    stream = openai.chat.completions.create(\n",
    "        model=MODEL,\n",
    "        messages=[\n",
    "            {\"role\": \"system\", \"content\": system_prompt},\n",
    "            {\"role\": \"user\", \"content\": brochure_user_prompt(company_name, url)}\n",
    "          ],\n",
    "        stream=True\n",
    "    )\n",
    "    \n",
    "    response = \"\"\n",
    "    display_handle = display(Markdown(\"\"), display_id=True)\n",
    "    for chunk in stream:\n",
    "        response += chunk.choices[0].delta.content or ''\n",
    "        response = response.replace(\"```\",\"\").replace(\"markdown\", \"\")\n",
    "        update_display(Markdown(response), display_id=display_handle.display_id)"
   ]
  },
  {
   "cell_type": "code",
   "execution_count": null,
   "metadata": {},
   "outputs": [
    {
     "name": "stdout",
     "output_type": "stream",
     "text": [
      "Found links: {'relevant_links': ['https://www.anthropic.com/claude', 'https://www.anthropic.com/team', 'https://www.anthropic.com/enterprise', 'https://www.anthropic.com/api', 'https://www.anthropic.com/pricing', 'https://www.anthropic.com/research', 'https://www.anthropic.com/company', 'https://www.anthropic.com/careers', 'https://www.anthropic.com/news', 'https://www.anthropic.com/jobs', 'https://support.anthropic.com/', 'https://status.anthropic.com/', 'https://twitter.com/AnthropicAI', 'https://www.linkedin.com/company/anthropicresearch', 'https://www.youtube.com/@anthropic-ai', 'https://trust.anthropic.com/']}\n"
     ]
    },
    {
     "data": {
      "text/markdown": [
       "# Welcome to Anthropic: A Front-Row Seat to a Safer AI Future! 🎉\n",
       "\n",
       "### Meet Claude: Your New AI BFF 🤖✨\n",
       "Say hello to **Claude**—not just any AI, but *the* AI that moonlights as your trusty co-pilot on the journey to creativity and productivity! Whether you're a lone wolf or part of a bustling team, Claude's here to help you turn ideas into reality. Why? Because we believe that every bright mind deserves a little quirky virtual assistant in their corner!\n",
       "\n",
       "### What’s in Claude’s Toolbox? 🛠️\n",
       "- **Advanced Reasoning:** Forget about simple patty-flipping; this AI can hold its own in complex cognitive tasks. \n",
       "- **Vision Analysis:** Claude can even make sense of your what-on-earth-is-this scribbles and *that* blurry selfie you took at brunch!\n",
       "- **Multilingual Processing:** Say “hola” to your multilingual skills! If you’ve ever wondered how to say \"delicious\" in ten languages, Claude’s got you covered!\n",
       "- **Code Generation:** It’s like having a mini-coder in your pocket—build websites, debug like a pro, and transform images into structured data faster than you can say “syntax error!”\n",
       "\n",
       "### Our Values: Safety is the Name of the Game ⚖️\n",
       "At Anthropic, our primary focus is on **AI safety**. We believe that technology should protect and serve humanity—like a superhero wearing a tie! Expect top-notch data security, user-friendly integrations, and policies that ensure Claude is not just smart, but *trustworthy*.\n",
       "\n",
       "### Calling All Visionaries! 🌟 Join Our Team!\n",
       "Want to become part of our quirky family? At Anthropic, our culture celebrates creativity, diversity, and the *occasional* AI-related dad joke. Check out our **open roles** because there’s no ‘I’ in AI, but there’s definitely a ‘we’!\n",
       "\n",
       "### Who's Building with Claude? 📈\n",
       "Our **A-listers** include *leading companies* across various sectors relying on our AI to revolutionize their workflows. Think of us as the “cutting-edge” wingman for your business!\n",
       "\n",
       "### Ready to Try Claude? 🚀\n",
       "Jump in and experience the future! From brainstorming sessions to heavy-duty tasks, Claude is all set to maximize your efficiency and fun factor.\n",
       "\n",
       "### Let’s Connect! 🌐\n",
       "Got questions? Want to know how we can light up your business life? Hit us up on our social media:\n",
       "- [Twitter](https://twitter.com/Anthropic)\n",
       "- [LinkedIn](https://www.linkedin.com/company/anthropic)\n",
       "- [YouTube](https://www.youtube.com/@Anthropic)\n",
       "\n",
       "**Dive into the thrilling world of Anthropic—where AI safety meets creative genius!**"
      ],
      "text/plain": [
       "<IPython.core.display.Markdown object>"
      ]
     },
     "metadata": {},
     "output_type": "display_data"
    }
   ],
   "source": [
    "stream_brochure(\"Riviera\", \"https://www.anthropic.com/\")"
   ]
  }
 ],
 "metadata": {
  "kernelspec": {
   "display_name": "llms",
   "language": "python",
   "name": "python3"
  },
  "language_info": {
   "codemirror_mode": {
    "name": "ipython",
    "version": 3
   },
   "file_extension": ".py",
   "mimetype": "text/x-python",
   "name": "python",
   "nbconvert_exporter": "python",
   "pygments_lexer": "ipython3",
   "version": "3.11.11"
  }
 },
 "nbformat": 4,
 "nbformat_minor": 2
}
