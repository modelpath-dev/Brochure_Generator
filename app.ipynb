{
 "cells": [
  {
   "cell_type": "code",
   "execution_count": 1,
   "metadata": {},
   "outputs": [],
   "source": [
    "import os\n",
    "import requests\n",
    "from bs4 import BeautifulSoup\n",
    "import json \n",
    "from dotenv import load_dotenv\n",
    "from typing import List\n",
    "from IPython.display import Markdown, display, update_display\n",
    "from openai import OpenAI"
   ]
  },
  {
   "cell_type": "code",
   "execution_count": 2,
   "metadata": {},
   "outputs": [
    {
     "name": "stdout",
     "output_type": "stream",
     "text": [
      "API key wrking fine\n"
     ]
    }
   ],
   "source": [
    "load_dotenv(override=True)\n",
    "api_key = os.getenv('OPENAI_API_KEY')\n",
    "\n",
    "if api_key and api_key.startswith('sk-proj-') and len(api_key)>10:\n",
    "    print(\"API key wrking fine\")\n",
    "else:\n",
    "    print(\"Check api key again\")\n",
    "    \n",
    "MODEL = 'gpt-4o-mini'\n",
    "openai = OpenAI()"
   ]
  },
  {
   "cell_type": "code",
   "execution_count": 3,
   "metadata": {},
   "outputs": [],
   "source": [
    "header={\n",
    "    'User-Agent': 'Mozilla/5.0 (Windows NT 10.0; Win64; x64) AppleWebKit/537.36 (KHTML, like Gecko) Chrome/117.0.0.0 Safari/537.36'\n",
    "}\n",
    "\n",
    "class Website:\n",
    "    def __init__(self,url):\n",
    "        self.url=url\n",
    "        response=requests.get(url, headers=header)\n",
    "        self.body=response.content\n",
    "        soup=BeautifulSoup(self.body, 'html.parser')\n",
    "        self.title=soup.title.string if soup.title else \"No title found\"\n",
    "        if soup.body:\n",
    "            for faaltu in soup.body(['script', 'style','img','input']):\n",
    "                faaltu.decompose()\n",
    "            self.text=soup.body.get_text(separator='\\n', strip=True)\n",
    "        else:\n",
    "            self.text=\"\"\n",
    "        links=[link.get('href') for link in soup.find_all('a')]\n",
    "        self.links=[link for link in links if link]\n",
    "\n",
    "    def get_contents(self):\n",
    "        return f\"Webpage Title:\\n{self.title}\\nWebpage Contents:\\n{self.text}\\n\\n\""
   ]
  },
  {
   "cell_type": "code",
   "execution_count": 4,
   "metadata": {},
   "outputs": [],
   "source": [
    "system_prompt=\"You are provided with a list of links found on a webpage. \\\n",
    "You are able to decide which of the links would be most relevant to include in a brochure about the company, \\\n",
    "such as links to an About page, or a Company page, or Careers/Jobs pages.\\n\"\n",
    "\n",
    "system_prompt+='You should respond in JSON as in this example:'\n",
    "system_prompt+=\"\"\"\n",
    "{\n",
    "    \"links\": [\n",
    "        {\"type\": \"about page\", \"url\": \"https://full.url/goes/here/about\"},\n",
    "        {\"type\": \"careers page\": \"url\": \"https://another.full.url/careers\"}\n",
    "    ]\n",
    "}\n",
    "\"\"\""
   ]
  },
  {
   "cell_type": "code",
   "execution_count": 5,
   "metadata": {},
   "outputs": [],
   "source": [
    "def get_user_prompt(website):\n",
    "    user_prompt=f'Here is the list of links on the website of {website.url} - '\n",
    "    user_prompt+=\"please decide which of these are relevant web links  for a brochure about the company, respond with the full https URL in JSON format. \\\n",
    "        do not include Terms of Service, Privacy, email links.\\n\"\n",
    "    user_prompt+=\"Links (some might be relative links):\\nGive the output strictly in python list form\"\n",
    "    user_prompt+=\"\\n\".join(website.links)\n",
    "\n",
    "    return user_prompt"
   ]
  },
  {
   "cell_type": "code",
   "execution_count": null,
   "metadata": {},
   "outputs": [],
   "source": []
  },
  {
   "cell_type": "code",
   "execution_count": 6,
   "metadata": {},
   "outputs": [],
   "source": [
    "def get_links(url):\n",
    "    website=Website(url)\n",
    "    response=openai.chat.completions.create(\n",
    "        model=MODEL,\n",
    "        messages=[\n",
    "            {\"role\": \"system\", \"content\":system_prompt},\n",
    "            {\"role\":\"user\", \"content\": get_user_prompt(website)}\n",
    "        ],\n",
    "\n",
    "            response_format={\"type\":\"json_object\"}\n",
    "    )\n",
    "    result=response.choices[0].message.content\n",
    "    return json.loads(result)\n",
    "    "
   ]
  },
  {
   "cell_type": "code",
   "execution_count": 13,
   "metadata": {},
   "outputs": [],
   "source": [
    "import time\n",
    "\n",
    "def retry(url, retries=5, delay=2):\n",
    "    for attempt in range(retries):\n",
    "        try:\n",
    "            return Website(url).get_contents()  \n",
    "        except (ConnectTimeout, TimeoutError, Exception) as e:\n",
    "            print(f\"Error occurred for {url}: {e}. Attempt {attempt + 1} of {retries}.\")\n",
    "            time.sleep(delay)  \n",
    "    print(f\"Skipping {url} after {retries} failed attempts.\")\n",
    "    return f\"Failed to retrieve contents for {url}\\n\"\n",
    "\n",
    "def get_details(url):\n",
    "    result = \"Landing page:\\n\"\n",
    "    result += retry(url)  \n",
    "    links = get_links(url)\n",
    "    print(\"Found links:\", links)\n",
    "    \n",
    "    key_to_check = next(iter(links), None) \n",
    "    \n",
    "    if key_to_check == 'links':\n",
    "        for link in links[\"links\"]:\n",
    "            result += f\"\\n\\n{link}\\n\"\n",
    "            result += retry(link)  \n",
    "    elif key_to_check == 'relevant_links':\n",
    "        for link in links[\"relevant_links\"]:\n",
    "            result += f\"\\n\\n{link}\\n\"\n",
    "            result += retry(link)  \n",
    "    else:\n",
    "        result += \"\\nNo relevant links found.\\n\"\n",
    "    \n",
    "    return result\n"
   ]
  },
  {
   "cell_type": "code",
   "execution_count": 14,
   "metadata": {},
   "outputs": [],
   "source": [
    "system_prompt = \"You are an assistant that analyzes the contents of several relevant pages from a website ( it can be company website, college club website, someone's portfolio) so be prepared \\\n",
    "and creates a short humorous, entertaining, jokey brochure about the company for prospective customers, investors and recruits. Respond in markdown.\\\n",
    "Include details of company culture, customers and careers/jobs if you have the information.\""
   ]
  },
  {
   "cell_type": "code",
   "execution_count": 15,
   "metadata": {},
   "outputs": [],
   "source": [
    "def brochure_user_prompt(company_name, url):\n",
    "    user_prompt = f\"You are looking at a company called: {company_name}\\n\"\n",
    "    user_prompt += f\"Here are the contents of its landing page and other relevant pages; use this information to build a professional brief brochure of the website in markdown.At footer always give the contacts link of their social media handles (except phone number) if available\\n\"\n",
    "    user_prompt += get_details(url)\n",
    "    user_prompt = user_prompt[:5_000] \n",
    "    return user_prompt"
   ]
  },
  {
   "cell_type": "code",
   "execution_count": 17,
   "metadata": {},
   "outputs": [],
   "source": [
    "def create_brochure(company_name, url):\n",
    "    response = openai.chat.completions.create(\n",
    "        model=MODEL,\n",
    "        messages=[\n",
    "            {\"role\": \"system\", \"content\": system_prompt},\n",
    "            {\"role\": \"user\", \"content\": brochure_user_prompt(company_name, url)}\n",
    "          ],\n",
    "    )\n",
    "    result = response.choices[0].message.content\n",
    "    display(Markdown(result))"
   ]
  },
  {
   "cell_type": "code",
   "execution_count": 18,
   "metadata": {},
   "outputs": [],
   "source": [
    "def stream_brochure(company_name, url):\n",
    "    stream = openai.chat.completions.create(\n",
    "        model=MODEL,\n",
    "        messages=[\n",
    "            {\"role\": \"system\", \"content\": system_prompt},\n",
    "            {\"role\": \"user\", \"content\": brochure_user_prompt(company_name, url)}\n",
    "          ],\n",
    "        stream=True\n",
    "    )\n",
    "    \n",
    "    response = \"\"\n",
    "    display_handle = display(Markdown(\"\"), display_id=True)\n",
    "    for chunk in stream:\n",
    "        response += chunk.choices[0].delta.content or ''\n",
    "        response = response.replace(\"```\",\"\").replace(\"markdown\", \"\")\n",
    "        update_display(Markdown(response), display_id=display_handle.display_id)"
   ]
  },
  {
   "cell_type": "code",
   "execution_count": 19,
   "metadata": {},
   "outputs": [
    {
     "name": "stdout",
     "output_type": "stream",
     "text": [
      "Found links: {'relevant_links': ['https://vit.ac.in/vit-2025-26-applications-open-for-ug-pg-nri-foreign-research-programmes', 'https://admissions.vit.ac.in/ugapplications/bdes-industrial-design-2025-applications/login', 'https://admissions.vit.ac.in/ugapplications/b-arch-2025-applications/login', 'https://admissions.vit.ac.in/ugapplications/bsc-hons-agri-2025-applications/login', 'https://admissions.vit.ac.in/ugapplications/bsc-bcom-bba-2025-applications/login', 'https://admissions.vit.ac.in/ugnriapplication/login', 'https://results.vit.ac.in/VITREE2025INT', 'https://careers.vit.ac.in/#!/', 'https://vit.ac.in/about-vit', 'https://vit.ac.in/about/vision-mission', 'https://vit.ac.in/vit-milestones', 'https://vit.ac.in/about/leadership', 'https://vit.ac.in/governance', 'https://vit.ac.in/about/infrastructure', 'https://vit.ac.in/about/sustainability', 'https://vit.ac.in/about/community-outreach', 'https://vit.ac.in/all-events', 'https://vit.ac.in/national-institutional-ranking-framework-nirf', 'https://vit.ac.in/research', 'https://vit.ac.in/campuslife/overview', 'https://vit.ac.in/campuslife/fests', 'https://vit.ac.in/campuslife/sports', 'https://vit.ac.in/campuslife/healthservices', 'https://vit.ac.in/campuslife/studentswelfare', 'https://vit.ac.in/admissions/overview', 'https://vit.ac.in/admissions/programmes-offered', 'https://vit.ac.in/all-courses/ug', 'https://vit.ac.in/all-courses/pg', 'https://vit.ac.in/internationalrelations', 'https://vit.ac.in/admissions/international/overview', 'https://vit.ac.in/research-guide-directory-schools-centres-january-2025-session', 'https://vit.ac.in/news-gallery/vit-ranked-8th-best-in-india-in-qs-world-university-rankings-sustainability-2025', 'https://vit.ac.in/news']}\n"
     ]
    },
    {
     "data": {
      "text/markdown": [
       "# Welcome to VIT University: The Place Where Dreams Go to Graduate!\n",
       "\n",
       "---\n",
       "\n",
       "## 🤖 About Us\n",
       "VIT University, located amidst the serene landscapes of Vellore, is not just an \"engineering institution.\" It's where students turn caffeine into code, innovation into invention, and education into exploration! We're not saying our dreamers will change the world, but last time we checked, world-changers attend classes here. \n",
       "\n",
       "Built on a foundation of sustainability, community engagement, and academic excellence, our vision is to produce not just engineers but *engineers of change* (and a few coffee enthusiasts too).\n",
       "\n",
       "---\n",
       "\n",
       "## 🎉 Student Life\n",
       "One word: Fests! 📅\n",
       "From cultural fests that rival most festivals to sports days where the only injury is from excessive high-fiving, our campus life is vibrant and engaging. Not to mention, our hostels are where friendships turn into family (and sometimes study groups at 2 AM).\n",
       "\n",
       "### Health Services 😷\n",
       "We care for our students. If your study binge turns into a sneeze binge, our health services are available for all your needs.\n",
       "\n",
       "---\n",
       "\n",
       "## 🚀 Academics\n",
       "We offer 71 Undergraduate and 58 Postgraduate programs because why limit yourself? Our curriculum not only makes you industry-ready but also builds your coffee-making skills for all-nighters.\n",
       "\n",
       "### Research Opportunities 🔬\n",
       "Ready to dive into the unknown? Look no further than VIT! Our passionate team encourages students to explore academia and research. Ph.D. applicants, welcome to the club! \n",
       "\n",
       "**All Programs Offered:**\n",
       "- B.Tech.: Start your engineering journey!\n",
       "- MBA: For the aspiring business tycoon.\n",
       "- Research & Ph.D.: Get ready to earn that title of \"Dr.\"\n",
       "\n",
       "---\n",
       "\n",
       "## 💼 Career Development\n",
       "If you’re here to just attend classes and not prepare for the future, this isn’t the place for you. \n",
       "- **Placement Highlights:** History shows every student here is committed to securing jobs that pay well enough to justify their student loans! (Spoiler: Highest CTC ₹1.02 Crore!)\n",
       "- **Top Recruiters:** We have a star-studded list spanning from tech giants to innovative startups.\n",
       "\n",
       "---\n",
       "\n",
       "## VIT Culture: Laughter in Learning\n",
       "- **Inclusivity:** Everyone is welcome! Well, except for pranksters who take things too far. Kindly exit stage left. \n",
       "- **Coffee Culture:** We have coffee breaks built into our schedule because caffeine is the true fuel of curiosity!\n",
       "- **Green Initiative:** We’re all about going green, not just with envy, but for sustainability too.\n",
       "\n",
       "---\n",
       "\n",
       "## 🎓 Careers at VIT\n",
       "So, you think you can teach? Become part of our academic family! We are always on the lookout for passionate faculty members and staff. Join us, and you could make a difference in the lives of future innovators (or just help them navigate through busy schedules).\n",
       "\n",
       "---\n",
       "\n",
       "### ✉️ Stay Connected!\n",
       "We’re social! Follow us on our platforms for the latest updates and even more hilarious memes about student life.\n",
       "\n",
       "- [Facebook](#)\n",
       "- [Twitter](#)\n",
       "- [Instagram](#)\n",
       "- [LinkedIn](#)\n",
       "\n",
       "---\n",
       "\n",
       "VIT University: **Where learning is fun, enriching, and possibly involves more snacks than you anticipated!**"
      ],
      "text/plain": [
       "<IPython.core.display.Markdown object>"
      ]
     },
     "metadata": {},
     "output_type": "display_data"
    }
   ],
   "source": [
    "stream_brochure(\"VIT University\", \"https://vit.ac.in\")"
   ]
  },
  {
   "cell_type": "code",
   "execution_count": null,
   "metadata": {},
   "outputs": [],
   "source": []
  }
 ],
 "metadata": {
  "kernelspec": {
   "display_name": "llms",
   "language": "python",
   "name": "python3"
  },
  "language_info": {
   "codemirror_mode": {
    "name": "ipython",
    "version": 3
   },
   "file_extension": ".py",
   "mimetype": "text/x-python",
   "name": "python",
   "nbconvert_exporter": "python",
   "pygments_lexer": "ipython3",
   "version": "3.11.11"
  }
 },
 "nbformat": 4,
 "nbformat_minor": 2
}
