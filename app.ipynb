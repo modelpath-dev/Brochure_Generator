{
 "cells": [
  {
   "cell_type": "code",
   "execution_count": 1,
   "metadata": {},
   "outputs": [],
   "source": [
    "import os\n",
    "import requests\n",
    "from bs4 import BeautifulSoup\n",
    "import json \n",
    "from dotenv import load_dotenv\n",
    "from typing import List\n",
    "from IPython.display import Markdown, display, update_display\n",
    "from openai import OpenAI"
   ]
  },
  {
   "cell_type": "code",
   "execution_count": 3,
   "metadata": {},
   "outputs": [
    {
     "name": "stdout",
     "output_type": "stream",
     "text": [
      "API key wrking fine\n"
     ]
    }
   ],
   "source": [
    "load_dotenv(override=True)\n",
    "api_key = os.getenv('OPENAI_API_KEY')\n",
    "\n",
    "if api_key and api_key.startswith('sk-proj-') and len(api_key)>10:\n",
    "    print(\"API key wrking fine\")\n",
    "else:\n",
    "    print(\"Check api key again\")\n",
    "    \n",
    "MODEL = 'gpt-4o-mini'\n",
    "openai = OpenAI()"
   ]
  },
  {
   "cell_type": "code",
   "execution_count": 4,
   "metadata": {},
   "outputs": [],
   "source": [
    "header={\n",
    "    'User-Agent': 'Mozilla/5.0 (Windows NT 10.0; Win64; x64) AppleWebKit/537.36 (KHTML, like Gecko) Chrome/117.0.0.0 Safari/537.36'\n",
    "}\n",
    "\n",
    "class Website:\n",
    "    def __init__(self,url):\n",
    "        self.url=url\n",
    "        response=requests.get(url, headers=header)\n",
    "        self.body=response.content\n",
    "        soup=BeautifulSoup(self.body, 'html.parser')\n",
    "        self.title=soup.title.string if soup.title else \"No title found\"\n",
    "        if soup.body:\n",
    "            for faaltu in soup.body(['script', 'style','img','input']):\n",
    "                faaltu.decompose()\n",
    "            self.text=soup.body.get_text(separator='\\n', strip=True)\n",
    "        else:\n",
    "            self.text=\"\"\n",
    "        links=[link.get('href') for link in soup.find_all('a')]\n",
    "        self.links=[link for link in links if link]\n",
    "\n",
    "    def get_contents(self):\n",
    "        return f\"Webpage Title:\\n{self.title}\\nWebpage Contents:\\n{self.text}\\n\\n\""
   ]
  },
  {
   "cell_type": "code",
   "execution_count": 5,
   "metadata": {},
   "outputs": [],
   "source": [
    "system_prompt=\"You are provided with a list of links found on a webpage. \\\n",
    "You are able to decide which of the links would be most relevant to include in a brochure about the company, \\\n",
    "such as links to an About page, or a Company page, or Careers/Jobs pages.\\n\"\n",
    "\n",
    "system_prompt+='You should respond in JSON as in this example:'\n",
    "system_prompt+=\"\"\"\n",
    "{\n",
    "    \"links\": [\n",
    "        {\"type\": \"about page\", \"url\": \"https://full.url/goes/here/about\"},\n",
    "        {\"type\": \"careers page\": \"url\": \"https://another.full.url/careers\"}\n",
    "    ]\n",
    "}\n",
    "\"\"\""
   ]
  },
  {
   "cell_type": "code",
   "execution_count": 6,
   "metadata": {},
   "outputs": [],
   "source": [
    "def get_user_prompt(website):\n",
    "    user_prompt=f'Here is the list of links on the website of {website.url} - '\n",
    "    user_prompt+=\"please decide which of these are relevant web links  for a brochure about the company, respond with the full https URL in JSON format. \\\n",
    "        do not include Terms of Service, Privacy, email links.\\n\"\n",
    "    user_prompt+=\"Links (some might be relative links):\\nGive the output strictly in python list form\"\n",
    "    user_prompt+=\"\\n\".join(website.links)\n",
    "\n",
    "    return user_prompt"
   ]
  },
  {
   "cell_type": "code",
   "execution_count": null,
   "metadata": {},
   "outputs": [],
   "source": []
  },
  {
   "cell_type": "code",
   "execution_count": 7,
   "metadata": {},
   "outputs": [],
   "source": [
    "def get_links(url):\n",
    "    website=Website(url)\n",
    "    response=openai.chat.completions.create(\n",
    "        model=MODEL,\n",
    "        messages=[\n",
    "            {\"role\": \"system\", \"content\":system_prompt},\n",
    "            {\"role\":\"user\", \"content\": get_user_prompt(website)}\n",
    "        ],\n",
    "\n",
    "            response_format={\"type\":\"json_object\"}\n",
    "    )\n",
    "    result=response.choices[0].message.content\n",
    "    return json.loads(result)\n",
    "    "
   ]
  },
  {
   "cell_type": "code",
   "execution_count": 8,
   "metadata": {},
   "outputs": [],
   "source": [
    "class ConnectTimeout(Exception):\n",
    "    \"\"\"Custom exception for connection timeout.\"\"\"\n",
    "    pass\n"
   ]
  },
  {
   "cell_type": "code",
   "execution_count": 9,
   "metadata": {},
   "outputs": [],
   "source": [
    "import time\n",
    "\n",
    "def retry(url, retries=5, delay=2):\n",
    "    for attempt in range(retries):\n",
    "        try:\n",
    "            return Website(url).get_contents()  \n",
    "        except (ConnectTimeout, TimeoutError, Exception) as e:\n",
    "            print(f\"Error occurred for {url}: {e}. Attempt {attempt + 1} of {retries}.\")\n",
    "            time.sleep(delay)  \n",
    "    print(f\"Skipping {url} after {retries} failed attempts.\")\n",
    "    return f\"Failed to retrieve contents for {url}\\n\"\n",
    "\n",
    "def get_details(url):\n",
    "    result = \"Landing page:\\n\"\n",
    "    result += retry(url)  \n",
    "    links = get_links(url)\n",
    "    print(\"Found links:\", links)\n",
    "    \n",
    "    key_to_check = next(iter(links), None) \n",
    "    \n",
    "    if key_to_check == 'links':\n",
    "        for link in links[\"links\"]:\n",
    "            result += f\"\\n\\n{link}\\n\"\n",
    "            result += retry(link)  \n",
    "    elif key_to_check == 'relevant_links':\n",
    "        for link in links[\"relevant_links\"]:\n",
    "            result += f\"\\n\\n{link}\\n\"\n",
    "            result += retry(link)  \n",
    "    else:\n",
    "        result += \"\\nNo relevant links found.\\n\"\n",
    "    \n",
    "    return result\n"
   ]
  },
  {
   "cell_type": "code",
   "execution_count": 10,
   "metadata": {},
   "outputs": [],
   "source": [
    "system_prompt = \"You are an assistant that analyzes the contents of several relevant pages from a website ( it can be company website, college club website, someone's portfolio) so be prepared \\\n",
    "and creates a short humorous, entertaining, jokey brochure about the company for prospective customers, investors and recruits. Respond in markdown.\\\n",
    "Include details of company culture, customers and careers/jobs if you have the information.\""
   ]
  },
  {
   "cell_type": "code",
   "execution_count": 11,
   "metadata": {},
   "outputs": [],
   "source": [
    "def brochure_user_prompt(company_name, url):\n",
    "    user_prompt = f\"You are looking at a company called: {company_name}\\n\"\n",
    "    user_prompt += f\"Here are the contents of its landing page and other relevant pages; use this information to build a professional brief brochure of the website in markdown.At footer always give the contacts link of their social media handles (except phone number) if available\\n\"\n",
    "    user_prompt += get_details(url)\n",
    "    user_prompt = user_prompt[:5_000] \n",
    "    return user_prompt"
   ]
  },
  {
   "cell_type": "code",
   "execution_count": 12,
   "metadata": {},
   "outputs": [],
   "source": [
    "def create_brochure(company_name, url):\n",
    "    response = openai.chat.completions.create(\n",
    "        model=MODEL,\n",
    "        messages=[\n",
    "            {\"role\": \"system\", \"content\": system_prompt},\n",
    "            {\"role\": \"user\", \"content\": brochure_user_prompt(company_name, url)}\n",
    "          ],\n",
    "    )\n",
    "    result = response.choices[0].message.content\n",
    "    display(Markdown(result))"
   ]
  },
  {
   "cell_type": "code",
   "execution_count": 13,
   "metadata": {},
   "outputs": [],
   "source": [
    "def stream_brochure(company_name, url):\n",
    "    stream = openai.chat.completions.create(\n",
    "        model=MODEL,\n",
    "        messages=[\n",
    "            {\"role\": \"system\", \"content\": system_prompt},\n",
    "            {\"role\": \"user\", \"content\": brochure_user_prompt(company_name, url)}\n",
    "          ],\n",
    "        stream=True\n",
    "    )\n",
    "    \n",
    "    response = \"\"\n",
    "    display_handle = display(Markdown(\"\"), display_id=True)\n",
    "    for chunk in stream:\n",
    "        response += chunk.choices[0].delta.content or ''\n",
    "        response = response.replace(\"```\",\"\").replace(\"markdown\", \"\")\n",
    "        update_display(Markdown(response), display_id=display_handle.display_id)"
   ]
  },
  {
   "cell_type": "code",
   "execution_count": 16,
   "metadata": {},
   "outputs": [
    {
     "name": "stdout",
     "output_type": "stream",
     "text": [
      "Found links: {'relevant_links': ['https://www.x.com/about', 'https://www.x.com/services', 'https://www.x.com/careers', 'https://www.x.com/contact', 'https://www.x.com/testimonials', 'https://www.x.com/faq']}\n"
     ]
    },
    {
     "data": {
      "text/markdown": [
       "# Welcome to X: Not Just a Letter of the Alphabet!\n",
       "\n",
       "**Your one-stop destination for connecting, posting, and possibly losing track of time as you scroll through cat memes.**\n",
       "\n",
       "---\n",
       "\n",
       "## 🎉 Who Are We?\n",
       "X is more than just a platform; it's a thriving online community where your friends become followers and your posts might just go viral (or play hide and seek in cyberspace). With us, you can exchange rapid-fire messages, share quirky posts, and find people with remarkably similar interests—or just follow your favorite celebrity's meal choices.\n",
       "\n",
       "---\n",
       "\n",
       "## 🚀 Our Services\n",
       "At X, we pride ourselves on being a community-centric platform. Whether you're sharing moments, ideas, or the next great viral dance challenge, we've got you covered! Here’s what we do:\n",
       "\n",
       "- **Interconnectivity**: Stay in touch with friends, family, coworkers, and that one guy you met at a party (because why not?).\n",
       "- **User-Friendly Platform**: Easy peasy posting—post photos, videos, and text like a pro!\n",
       "- **Explore**: Find content creators, businesses, and people who love the same weird stuff as you. P.S. We recommend plenty of stick figure art.\n",
       "\n",
       "---\n",
       "\n",
       "## 😄 Company Culture\n",
       "Imagine a space where creativity and laughter are the norms. At X, we take our coffee seriously but not ourselves. Our office motto? \"Less stress, more best-dressed.\" Work-life balance is our jam, and whether you’re brainstorming ideas or sharing office cats, we prioritize fun alongside productivity. \n",
       "\n",
       "---\n",
       "\n",
       "## 💼 Career Opportunities\n",
       "Looking to join a vibrant team where you can share cat pictures AND ideas? We’re hiring! At X, we offer:\n",
       "\n",
       "- **Internships**: Kickstart your journey in a supportive environment.\n",
       "- **Full-Time Positions**: Bring your wit, enthusiasm, and a sprinkle of craziness. We love that!\n",
       "- **Developer Resources**: Don’t worry if you don’t know how to code. We have all sorts of tips and resources that would make the best code ninjas.\n",
       "\n",
       "---\n",
       "\n",
       "## 🙌 Our Customers\n",
       "Our diverse users come from different walks of life, including:\n",
       "\n",
       "- **Funny folks**: Masters of humor sharing their best dad jokes.\n",
       "- **Creatives**: Photographers, writers, and digital artists exhibiting works that even your grandma might say, \"that’s nice, dear.\"\n",
       "- **Business Buffs**: Entrepreneurs who know that connecting on our platform might just land them their next big client or, at the very least, a dinner invite!\n",
       "\n",
       "---\n",
       "\n",
       "## 💬 FAQ\n",
       "- **Q: What’s a post?**\n",
       "  - A: It’s like a diary entry, but instead of being locked away, it’s broadcasted for everyone (including your boss).\n",
       "\n",
       "- **Q: Can I edit my post?**\n",
       "  - A: Editing is for X Premium subscribers only. For everyone else, sorry, once it’s out there, it’s out there for eternity!\n",
       "\n",
       "- **Q: Can I follow people?**\n",
       "  - A: Absolutely! It’s like social media stalking but with their consent!\n",
       "\n",
       "---\n",
       "\n",
       "Now that you've taken the tour, grab your X account and dive into the fun world of X! Join the conversation, share your thoughts, and maybe post a picture of your lunch like a true internet explorer.\n",
       "\n",
       "---\n",
       "\n",
       "## 🌐 Stay in Touch!\n",
       "For more information, updates, or if you just want to say hi:\n",
       "- [Instagram](https://www.instagram.com/x)\n",
       "- [Twitter](https://www.twitter.com/x)\n",
       "- [Facebook](https://www.facebook.com/x)\n",
       "\n",
       "Remember, at X, we care about our users—because without you, we'd just be an \"X\" in the dictionary. Happy posting! 🎉"
      ],
      "text/plain": [
       "<IPython.core.display.Markdown object>"
      ]
     },
     "metadata": {},
     "output_type": "display_data"
    }
   ],
   "source": [
    "stream_brochure(\"X\", \"https://www.x.com\")"
   ]
  },
  {
   "cell_type": "code",
   "execution_count": null,
   "metadata": {},
   "outputs": [],
   "source": []
  }
 ],
 "metadata": {
  "kernelspec": {
   "display_name": "llms",
   "language": "python",
   "name": "python3"
  },
  "language_info": {
   "codemirror_mode": {
    "name": "ipython",
    "version": 3
   },
   "file_extension": ".py",
   "mimetype": "text/x-python",
   "name": "python",
   "nbconvert_exporter": "python",
   "pygments_lexer": "ipython3",
   "version": "3.11.11"
  }
 },
 "nbformat": 4,
 "nbformat_minor": 2
}
