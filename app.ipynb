{
 "cells": [
  {
   "cell_type": "code",
   "execution_count": 1,
   "metadata": {},
   "outputs": [],
   "source": [
    "import os\n",
    "import requests\n",
    "from bs4 import BeautifulSoup\n",
    "import json \n",
    "from dotenv import load_dotenv\n",
    "from typing import List\n",
    "from IPython.display import Markdown, display\n",
    "from openai import OpenAI"
   ]
  },
  {
   "cell_type": "code",
   "execution_count": 3,
   "metadata": {},
   "outputs": [
    {
     "name": "stdout",
     "output_type": "stream",
     "text": [
      "API key wrking fine\n"
     ]
    }
   ],
   "source": [
    "load_dotenv(override=True)\n",
    "api_key = os.getenv('OPENAI_API_KEY')\n",
    "\n",
    "if api_key and api_key.startswith('sk-proj-') and len(api_key)>10:\n",
    "    print(\"API key wrking fine\")\n",
    "else:\n",
    "    print(\"Check api key again\")\n",
    "    \n",
    "MODEL = 'gpt-4o-mini'\n",
    "openai = OpenAI()"
   ]
  },
  {
   "cell_type": "code",
   "execution_count": 4,
   "metadata": {},
   "outputs": [],
   "source": [
    "header={\n",
    "    'User-Agent': 'Mozilla/5.0 (Windows NT 10.0; Win64; x64) AppleWebKit/537.36 (KHTML, like Gecko) Chrome/117.0.0.0 Safari/537.36'\n",
    "}\n",
    "\n",
    "class Website:\n",
    "    def __init__(self,url):\n",
    "        self.url=url\n",
    "        response=requests.get(url, headers=header)\n",
    "        self.body=response.content\n",
    "        soup=BeautifulSoup(self.body, 'html.parser')\n",
    "        self.title=soup.title.string if soup.title else \"No title found\"\n",
    "        if soup.body:\n",
    "            for faaltu in soup.body(['script', 'style','img','input']):\n",
    "                faaltu.decompose()\n",
    "            self.text=soup.body.get_text(separator='\\n', strip=True)\n",
    "        else:\n",
    "            self.text=\"\"\n",
    "        links=[link.get('href') for link in soup.find_all('a')]\n",
    "        self.links=[link for link in links if link]\n",
    "\n",
    "    def get_contents(self):\n",
    "        return f\"Webpage Title:\\n{self.title}\\nWebpage Contents:\\n{self.text}\\n\\n\""
   ]
  },
  {
   "cell_type": "code",
   "execution_count": 5,
   "metadata": {},
   "outputs": [],
   "source": [
    "system_prompt=\"You are provided with a list of links found on a webpage. \\\n",
    "You are able to decide which of the links would be most relevant to include in a brochure about the company, \\\n",
    "such as links to an About page, or a Company page, or Careers/Jobs pages.\\n\"\n",
    "\n",
    "system_prompt+='You should respond in JSON as in this example:'\n",
    "system_prompt+=\"\"\"\n",
    "{\n",
    "    \"links\": [\n",
    "        {\"type\": \"about page\", \"url\": \"https://full.url/goes/here/about\"},\n",
    "        {\"type\": \"careers page\": \"url\": \"https://another.full.url/careers\"}\n",
    "    ]\n",
    "}\n",
    "\"\"\""
   ]
  },
  {
   "cell_type": "code",
   "execution_count": 6,
   "metadata": {},
   "outputs": [],
   "source": [
    "def get_user_prompt(website):\n",
    "    user_prompt=f'Here is the list of links on the website of {website.url} - '\n",
    "    user_prompt+=\"please decide which of these are relevant web links  for a brochure about the company, respond with the full https URL in JSON format. \\\n",
    "        do not include Terms of Service, Privacy, email links.\\n\"\n",
    "    user_prompt+=\"Links (some might be relative links):\\nGive the output strictly in python list form\"\n",
    "    user_prompt+=\"\\n\".join(website.links)\n",
    "\n",
    "    return user_prompt"
   ]
  },
  {
   "cell_type": "code",
   "execution_count": null,
   "metadata": {},
   "outputs": [],
   "source": []
  },
  {
   "cell_type": "code",
   "execution_count": 7,
   "metadata": {},
   "outputs": [],
   "source": [
    "def get_links(url):\n",
    "    website=Website(url)\n",
    "    response=openai.chat.completions.create(\n",
    "        model=MODEL,\n",
    "        messages=[\n",
    "            {\"role\": \"system\", \"content\":system_prompt},\n",
    "            {\"role\":\"user\", \"content\": get_user_prompt(website)}\n",
    "        ],\n",
    "\n",
    "            response_format={\"type\":\"json_object\"}\n",
    "    )\n",
    "    result=response.choices[0].message.content\n",
    "    return json.loads(result)\n",
    "    "
   ]
  },
  {
   "cell_type": "code",
   "execution_count": 8,
   "metadata": {},
   "outputs": [],
   "source": [
    "class ConnectTimeout(Exception):\n",
    "    \"\"\"Custom exception for connection timeout.\"\"\"\n",
    "    pass\n"
   ]
  },
  {
   "cell_type": "code",
   "execution_count": 9,
   "metadata": {},
   "outputs": [],
   "source": [
    "import time\n",
    "\n",
    "def retry(url, retries=5, delay=2):\n",
    "    for attempt in range(retries):\n",
    "        try:\n",
    "            return Website(url).get_contents()  \n",
    "        except (ConnectTimeout, TimeoutError, Exception) as e:\n",
    "            print(f\"Error occurred for {url}: {e}. Attempt {attempt + 1} of {retries}.\")\n",
    "            time.sleep(delay)  \n",
    "    print(f\"Skipping {url} after {retries} failed attempts.\")\n",
    "    return f\"Failed to retrieve contents for {url}\\n\"\n",
    "\n",
    "def get_details(url):\n",
    "    result = \"Landing page:\\n\"\n",
    "    result += retry(url)  \n",
    "    links = get_links(url)\n",
    "    print(\"Found links:\", links)\n",
    "    \n",
    "    key_to_check = next(iter(links), None) \n",
    "    \n",
    "    if key_to_check == 'links':\n",
    "        for link in links[\"links\"]:\n",
    "            result += f\"\\n\\n{link}\\n\"\n",
    "            result += retry(link)  \n",
    "    elif key_to_check == 'relevant_links':\n",
    "        for link in links[\"relevant_links\"]:\n",
    "            result += f\"\\n\\n{link}\\n\"\n",
    "            result += retry(link)  \n",
    "    else:\n",
    "        result += \"\\nNo relevant links found.\\n\"\n",
    "    \n",
    "    return result\n"
   ]
  },
  {
   "cell_type": "code",
   "execution_count": 10,
   "metadata": {},
   "outputs": [],
   "source": [
    "system_prompt = \"You are an assistant that analyzes the contents of several relevant pages from a website ( it can be company website, college club website, someone's portfolio) so be prepared \\\n",
    "and creates a short humorous, entertaining, jokey brochure about the company for prospective customers, investors and recruits. Respond in markdown.\\\n",
    "Include details of company culture, customers and careers/jobs if you have the information.\""
   ]
  },
  {
   "cell_type": "code",
   "execution_count": 11,
   "metadata": {},
   "outputs": [],
   "source": [
    "def brochure_user_prompt(company_name, url):\n",
    "    user_prompt = f\"You are looking at a company called: {company_name}\\n\"\n",
    "    user_prompt += f\"Here are the contents of its landing page and other relevant pages; use this information to build a professional brief brochure of the website in markdown.At footer always give the contacts link of their social media handles (except phone number) if available\\n\"\n",
    "    user_prompt += get_details(url)\n",
    "    user_prompt = user_prompt[:5_000] \n",
    "    return user_prompt"
   ]
  },
  {
   "cell_type": "code",
   "execution_count": 12,
   "metadata": {},
   "outputs": [],
   "source": [
    "def create_brochure(company_name, url):\n",
    "    response = openai.chat.completions.create(\n",
    "        model=MODEL,\n",
    "        messages=[\n",
    "            {\"role\": \"system\", \"content\": system_prompt},\n",
    "            {\"role\": \"user\", \"content\": brochure_user_prompt(company_name, url)}\n",
    "          ],\n",
    "    )\n",
    "    result = response.choices[0].message.content\n",
    "    display(Markdown(result))"
   ]
  },
  {
   "cell_type": "code",
   "execution_count": 13,
   "metadata": {},
   "outputs": [],
   "source": [
    "def stream_brochure(company_name, url):\n",
    "    stream = openai.chat.completions.create(\n",
    "        model=MODEL,\n",
    "        messages=[\n",
    "            {\"role\": \"system\", \"content\": system_prompt},\n",
    "            {\"role\": \"user\", \"content\": brochure_user_prompt(company_name, url)}\n",
    "          ],\n",
    "        stream=True\n",
    "    )\n",
    "    \n",
    "    response = \"\"\n",
    "    display_handle = display(Markdown(\"\"), display_id=True)\n",
    "    for chunk in stream:\n",
    "        response += chunk.choices[0].delta.content or ''\n",
    "        response = response.replace(\"```\",\"\").replace(\"markdown\", \"\")\n",
    "        update_display(Markdown(response), display_id=display_handle.display_id)"
   ]
  },
  {
   "cell_type": "code",
   "execution_count": 22,
   "metadata": {},
   "outputs": [
    {
     "name": "stdout",
     "output_type": "stream",
     "text": [
      "Found links: {'relevant_links': ['https://viteee.vit.ac.in/?utm_source=VJQY2341&utm_campaign=viteee2025', 'https://vit.ac.in/vit-2025-26-applications-open-for-ug-pg-nri-foreign-research-programmes', 'https://admissions.vit.ac.in/ugapplications/bdes-industrial-design-2025-applications/login', 'https://admissions.vit.ac.in/ugapplications/b-arch-2025-applications/login', 'https://admissions.vit.ac.in/ugapplications/bsc-hons-agri-2025-applications/login', 'https://admissions.vit.ac.in/ugapplications/bsc-bcom-bba-2025-applications/login', 'https://admissions.vit.ac.in/ugnriapplication/login', 'https://results.vit.ac.in/VITREE2025INT', 'https://careers.vit.ac.in/#!/', 'https://admissions.vit.ac.in/researchirapplication/login', 'https://admissions.vit.ac.in/mba-2025-applications/login?utm_source=V71TI1557&utm_campaign=mba2025', 'https://vit.ac.in/about-vit', 'https://vit.ac.in/about/vision-mission', 'https://vit.ac.in/vit-milestones', 'https://vit.ac.in/governance', 'https://vit.ac.in/about/infrastructure', 'https://vit.ac.in/about/community-outreach', 'https://vit.ac.in/ranking-and-recognition', 'https://vit.ac.in/admissions/programmes-offered', 'https://vit.ac.in/all-courses/ug', 'https://vit.ac.in/all-courses/pg', 'https://vit.ac.in/admissions/research', 'https://vit.ac.in/cdc-overview', 'https://vit.ac.in/internationalrelations', 'https://vit.ac.in/research', 'https://vit.ac.in/campuslife/overview', 'https://vit.ac.in/campuslife/fests', 'https://vit.ac.in/campuslife/healthservices', 'https://vit.ac.in/anti-ragging-committee', 'https://vit.ac.in/campuslife/studentswelfare', 'https://vit.ac.in/guest-house', 'https://vit.ac.in/hotels-in-vellore', 'https://vit.ac.in/news', 'https://viteee.vit.ac.in']}\n"
     ]
    },
    {
     "data": {
      "text/markdown": [
       "# Welcome to Vellore Institute of Technology (VIT)  \n",
       "## Where Science, Art, and Snacks Meet at the Intersection of Innovation! \n",
       "\n",
       "---\n",
       "\n",
       "### 🎉 **Why VIT? Because Ordinary is Overrated!**  \n",
       "At VIT, we believe in shaking things up! With a multitude of accolades (212th globally, not to brag…okay, we’re bragging) and a menu of 71 undergraduate and 58 postgraduate programs, we're like the buffet of higher education – there's something for everyone!\n",
       "\n",
       "---\n",
       "\n",
       "### 🏆 **Our Superpower: A Top Engineering Institution in India**  \n",
       "We're not just any university; we’re *India’s Leading University*! Students from all over choose VIT to be trained by the best faculty while pioneering the latest research.  \n",
       "\n",
       "- **Research?** Why yes, we have 15 research programs!  \n",
       "- **Degrees?** From B.Des in Industrial Design to Ph.D. in Engineering – take your pick!  \n",
       "- **Admissions Open:** UG/PG/NRI/Research for 2025-26 – you got options!\n",
       "\n",
       "---\n",
       "\n",
       "### 🌍 **Ever Dreamt of Going Global? We’ve Got You!**  \n",
       "VIT offers an International Transfer Program, inbound exchange opportunities, and a semester abroad experience that will have your passport getting more stamps than your Instagram account!\n",
       "\n",
       "---\n",
       "\n",
       "### 🎉 **Campus Life: No Boring Days Allowed!**  \n",
       "At VIT, you’ll find:\n",
       "\n",
       "- **Fests:** Because who doesn’t love a good celebration (and free snacks)?\n",
       "- **Sports:** Channel your inner Olympian, or just enjoy the thrill of dodging the gym!\n",
       "- **Health Services:** Just in case your excitement goes a bit overboard (party responsibly!).\n",
       "\n",
       "---\n",
       "\n",
       "### 🌱 **Sustainable Culture: Saving the Planet, One Campus at a Time!**  \n",
       "Join us in our *True Green Project*, because we love our campus and want to keep it clean (and green!). Feel free to bring your plant-loving friends along!\n",
       "\n",
       "---\n",
       "\n",
       "### 👩‍🎓 **Career Development: Where Jobs Are Made!**  \n",
       "Worried about finding a job? **Don’t be!** Our Career Development Centre will help you land that dream gig. Did we mention the highest CTC is a whopping ₹1.02 Cr? Cha-ching!\n",
       "\n",
       "---\n",
       "\n",
       "### 🌟 **Join Us: Be Part of the VIT Family!**  \n",
       "Talent is like a diamond in the rough, and at VIT we polish it until it shines! We're searching for faculty and staff who are ready to make a difference – if you're passionate, dedicated, and ready to turn dreams into reality, we want you!\n",
       "\n",
       "---\n",
       "\n",
       "### 📢 **Stay Connected!**  \n",
       "Follow our adventures, announcements, and mischief:  \n",
       "- [Instagram](#)  \n",
       "- [Twitter](#)  \n",
       "- [Facebook](#)  \n",
       "\n",
       "---\n",
       "\n",
       "**VIT: A Place to Learn, A Chance to Grow. 🚀**  \n",
       "Are you ready to take the leap? Apply now and join the fun! "
      ],
      "text/plain": [
       "<IPython.core.display.Markdown object>"
      ]
     },
     "metadata": {},
     "output_type": "display_data"
    }
   ],
   "source": [
    "stream_brochure(\"Vellore Institute of Technology\", \"https://www.vit.ac.in\")"
   ]
  },
  {
   "cell_type": "code",
   "execution_count": null,
   "metadata": {},
   "outputs": [],
   "source": []
  }
 ],
 "metadata": {
  "kernelspec": {
   "display_name": "llms",
   "language": "python",
   "name": "python3"
  },
  "language_info": {
   "codemirror_mode": {
    "name": "ipython",
    "version": 3
   },
   "file_extension": ".py",
   "mimetype": "text/x-python",
   "name": "python",
   "nbconvert_exporter": "python",
   "pygments_lexer": "ipython3",
   "version": "3.11.11"
  }
 },
 "nbformat": 4,
 "nbformat_minor": 2
}
