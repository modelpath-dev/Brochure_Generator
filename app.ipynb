{
 "cells": [
  {
   "cell_type": "code",
   "execution_count": 13,
   "metadata": {},
   "outputs": [],
   "source": [
    "import os\n",
    "import requests\n",
    "from bs4 import BeautifulSoup\n",
    "import json \n",
    "from dotenv import load_dotenv\n",
    "from typing import List\n",
    "from IPython.display import Markdown, display, update_display\n",
    "from openai import OpenAI"
   ]
  },
  {
   "cell_type": "code",
   "execution_count": 14,
   "metadata": {},
   "outputs": [
    {
     "name": "stdout",
     "output_type": "stream",
     "text": [
      "API key wrking fine\n"
     ]
    }
   ],
   "source": [
    "load_dotenv(override=True)\n",
    "api_key = os.getenv('OPENAI_API_KEY')\n",
    "\n",
    "if api_key and api_key.startswith('sk-proj-') and len(api_key)>10:\n",
    "    print(\"API key wrking fine\")\n",
    "else:\n",
    "    print(\"Check api key again\")\n",
    "    \n",
    "MODEL = 'gpt-4o-mini'\n",
    "openai = OpenAI()"
   ]
  },
  {
   "cell_type": "code",
   "execution_count": 15,
   "metadata": {},
   "outputs": [],
   "source": [
    "header={\n",
    "    'User-Agent': 'Mozilla/5.0 (Windows NT 10.0; Win64; x64) AppleWebKit/537.36 (KHTML, like Gecko) Chrome/117.0.0.0 Safari/537.36'\n",
    "}\n",
    "\n",
    "class Website:\n",
    "    def __init__(self,url):\n",
    "        self.url=url\n",
    "        response=requests.get(url, headers=header)\n",
    "        self.body=response.content\n",
    "        soup=BeautifulSoup(self.body, 'html.parser')\n",
    "        self.title=soup.title.string if soup.title else \"No title found\"\n",
    "        if soup.body:\n",
    "            for faaltu in soup.body(['script', 'style','img','input']):\n",
    "                faaltu.decompose()\n",
    "            self.text=soup.body.get_text(separator='\\n', strip=True)\n",
    "        else:\n",
    "            self.text=\"\"\n",
    "        links=[link.get('href') for link in soup.find_all('a')]\n",
    "        self.links=[link for link in links if link]\n",
    "\n",
    "    def get_contents(self):\n",
    "        return f\"Webpage Title:\\n{self.title}\\nWebpage Contents:\\n{self.text}\\n\\n\""
   ]
  },
  {
   "cell_type": "code",
   "execution_count": 16,
   "metadata": {},
   "outputs": [],
   "source": [
    "system_prompt=\"You are provided with a list of links found on a webpage. \\\n",
    "You are able to decide which of the links would be most relevant to include in a brochure about the company, \\\n",
    "such as links to an About page, or a Company page, or Careers/Jobs pages.\\n\"\n",
    "\n",
    "system_prompt+='You should respond in JSON as in this example:'\n",
    "system_prompt+=\"\"\"\n",
    "{\n",
    "    \"links\": [\n",
    "        {\"type\": \"about page\", \"url\": \"https://full.url/goes/here/about\"},\n",
    "        {\"type\": \"careers page\": \"url\": \"https://another.full.url/careers\"}\n",
    "    ]\n",
    "}\n",
    "\"\"\""
   ]
  },
  {
   "cell_type": "code",
   "execution_count": 17,
   "metadata": {},
   "outputs": [],
   "source": [
    "def get_user_prompt(website):\n",
    "    user_prompt=f'Here is the list of links on the website of {website.url} - '\n",
    "    user_prompt+=\"please decide which of these are relevant web links  for a brochure about the company, respond with the full https URL in JSON format. \\\n",
    "        do not include Terms of Service, Privacy, email links.\\n\"\n",
    "    user_prompt+=\"Links (some might be relative links):\\nGive the output strictly in python list form\"\n",
    "    user_prompt+=\"\\n\".join(website.links)\n",
    "\n",
    "    return user_prompt"
   ]
  },
  {
   "cell_type": "code",
   "execution_count": null,
   "metadata": {},
   "outputs": [],
   "source": []
  },
  {
   "cell_type": "code",
   "execution_count": 18,
   "metadata": {},
   "outputs": [],
   "source": [
    "def get_links(url):\n",
    "    website=Website(url)\n",
    "    response=openai.chat.completions.create(\n",
    "        model=MODEL,\n",
    "        messages=[\n",
    "            {\"role\": \"system\", \"content\":system_prompt},\n",
    "            {\"role\":\"user\", \"content\": get_user_prompt(website)}\n",
    "        ],\n",
    "\n",
    "            response_format={\"type\":\"json_object\"}\n",
    "    )\n",
    "    result=response.choices[0].message.content\n",
    "    return json.loads(result)\n",
    "    "
   ]
  },
  {
   "cell_type": "code",
   "execution_count": 25,
   "metadata": {},
   "outputs": [],
   "source": [
    "class ConnectTimeout(Exception):\n",
    "    \"\"\"Custom exception for connection timeout.\"\"\"\n",
    "    pass\n"
   ]
  },
  {
   "cell_type": "code",
   "execution_count": 26,
   "metadata": {},
   "outputs": [],
   "source": [
    "import time\n",
    "\n",
    "def retry(url, retries=5, delay=2):\n",
    "    for attempt in range(retries):\n",
    "        try:\n",
    "            return Website(url).get_contents()  \n",
    "        except (ConnectTimeout, TimeoutError, Exception) as e:\n",
    "            print(f\"Error occurred for {url}: {e}. Attempt {attempt + 1} of {retries}.\")\n",
    "            time.sleep(delay)  \n",
    "    print(f\"Skipping {url} after {retries} failed attempts.\")\n",
    "    return f\"Failed to retrieve contents for {url}\\n\"\n",
    "\n",
    "def get_details(url):\n",
    "    result = \"Landing page:\\n\"\n",
    "    result += retry(url)  \n",
    "    links = get_links(url)\n",
    "    print(\"Found links:\", links)\n",
    "    \n",
    "    key_to_check = next(iter(links), None) \n",
    "    \n",
    "    if key_to_check == 'links':\n",
    "        for link in links[\"links\"]:\n",
    "            result += f\"\\n\\n{link}\\n\"\n",
    "            result += retry(link)  \n",
    "    elif key_to_check == 'relevant_links':\n",
    "        for link in links[\"relevant_links\"]:\n",
    "            result += f\"\\n\\n{link}\\n\"\n",
    "            result += retry(link)  \n",
    "    else:\n",
    "        result += \"\\nNo relevant links found.\\n\"\n",
    "    \n",
    "    return result\n"
   ]
  },
  {
   "cell_type": "code",
   "execution_count": 27,
   "metadata": {},
   "outputs": [],
   "source": [
    "system_prompt = \"You are an assistant that analyzes the contents of several relevant pages from a website ( it can be company website, college club website, someone's portfolio) so be prepared \\\n",
    "and creates a short humorous, entertaining, jokey brochure about the company for prospective customers, investors and recruits. Respond in markdown.\\\n",
    "Include details of company culture, customers and careers/jobs if you have the information.\""
   ]
  },
  {
   "cell_type": "code",
   "execution_count": 28,
   "metadata": {},
   "outputs": [],
   "source": [
    "def brochure_user_prompt(company_name, url):\n",
    "    user_prompt = f\"You are looking at a company called: {company_name}\\n\"\n",
    "    user_prompt += f\"Here are the contents of its landing page and other relevant pages; use this information to build a professional brief brochure of the website in markdown.At footer always give the contacts link of their social media handles (except phone number) if available\\n\"\n",
    "    user_prompt += get_details(url)\n",
    "    user_prompt = user_prompt[:5_000] \n",
    "    return user_prompt"
   ]
  },
  {
   "cell_type": "code",
   "execution_count": 29,
   "metadata": {},
   "outputs": [],
   "source": [
    "def create_brochure(company_name, url):\n",
    "    response = openai.chat.completions.create(\n",
    "        model=MODEL,\n",
    "        messages=[\n",
    "            {\"role\": \"system\", \"content\": system_prompt},\n",
    "            {\"role\": \"user\", \"content\": brochure_user_prompt(company_name, url)}\n",
    "          ],\n",
    "    )\n",
    "    result = response.choices[0].message.content\n",
    "    display(Markdown(result))"
   ]
  },
  {
   "cell_type": "code",
   "execution_count": 30,
   "metadata": {},
   "outputs": [],
   "source": [
    "def stream_brochure(company_name, url):\n",
    "    stream = openai.chat.completions.create(\n",
    "        model=MODEL,\n",
    "        messages=[\n",
    "            {\"role\": \"system\", \"content\": system_prompt},\n",
    "            {\"role\": \"user\", \"content\": brochure_user_prompt(company_name, url)}\n",
    "          ],\n",
    "        stream=True\n",
    "    )\n",
    "    \n",
    "    response = \"\"\n",
    "    display_handle = display(Markdown(\"\"), display_id=True)\n",
    "    for chunk in stream:\n",
    "        response += chunk.choices[0].delta.content or ''\n",
    "        response = response.replace(\"```\",\"\").replace(\"markdown\", \"\")\n",
    "        update_display(Markdown(response), display_id=display_handle.display_id)"
   ]
  },
  {
   "cell_type": "code",
   "execution_count": 31,
   "metadata": {},
   "outputs": [
    {
     "name": "stdout",
     "output_type": "stream",
     "text": [
      "Found links: {'relevant_links': ['https://www.mit.edu/', 'https://www.mit.edu/education', 'https://www.mit.edu/research', 'https://www.mit.edu/innovation', 'https://www.mit.edu/admissions-aid', 'https://www.mit.edu/campus-life', 'https://news.mit.edu/', 'https://www.mit.edu/alumni', 'https://www.mit.edu/about', 'https://www.mit.edu/building-a-better-world', 'https://www.google.com/maps/place/Massachusetts+Institute+of+Technology/@42.360091,-71.09416,15z/data=!4m5!3m4!1s0x0:0xd0e08ea5b308203c!8m2!3d42.360091!4d-71.09416', 'https://www.mit.edu/visitmit', 'https://whereis.mit.edu/', 'https://calendar.mit.edu/', 'https://careers.mit.edu/', 'https://socialmediahub.mit.edu/', 'https://twitter.com/mit', 'https://www.facebook.com/MITnews', 'https://www.youtube.com/mit', 'https://www.instagram.com/mit/']}\n",
      "Error occurred for https://whereis.mit.edu/: HTTPSConnectionPool(host='whereis.mit.edu', port=443): Max retries exceeded with url: / (Caused by SSLError(SSLError(1, '[SSL: DH_KEY_TOO_SMALL] dh key too small (_ssl.c:1006)'))). Attempt 1 of 5.\n",
      "Error occurred for https://whereis.mit.edu/: HTTPSConnectionPool(host='whereis.mit.edu', port=443): Max retries exceeded with url: / (Caused by SSLError(SSLError(1, '[SSL: DH_KEY_TOO_SMALL] dh key too small (_ssl.c:1006)'))). Attempt 2 of 5.\n",
      "Error occurred for https://whereis.mit.edu/: HTTPSConnectionPool(host='whereis.mit.edu', port=443): Max retries exceeded with url: / (Caused by SSLError(SSLError(1, '[SSL: DH_KEY_TOO_SMALL] dh key too small (_ssl.c:1006)'))). Attempt 3 of 5.\n",
      "Error occurred for https://whereis.mit.edu/: HTTPSConnectionPool(host='whereis.mit.edu', port=443): Max retries exceeded with url: / (Caused by SSLError(SSLError(1, '[SSL: DH_KEY_TOO_SMALL] dh key too small (_ssl.c:1006)'))). Attempt 4 of 5.\n",
      "Error occurred for https://whereis.mit.edu/: HTTPSConnectionPool(host='whereis.mit.edu', port=443): Max retries exceeded with url: / (Caused by SSLError(SSLError(1, '[SSL: DH_KEY_TOO_SMALL] dh key too small (_ssl.c:1006)'))). Attempt 5 of 5.\n",
      "Skipping https://whereis.mit.edu/ after 5 failed attempts.\n",
      "Error occurred for https://socialmediahub.mit.edu/: HTTPSConnectionPool(host='socialmediahub.mit.edu', port=443): Max retries exceeded with url: / (Caused by SSLError(SSLError(1, '[SSL: DH_KEY_TOO_SMALL] dh key too small (_ssl.c:1006)'))). Attempt 1 of 5.\n",
      "Error occurred for https://socialmediahub.mit.edu/: HTTPSConnectionPool(host='socialmediahub.mit.edu', port=443): Max retries exceeded with url: / (Caused by SSLError(SSLError(1, '[SSL: DH_KEY_TOO_SMALL] dh key too small (_ssl.c:1006)'))). Attempt 2 of 5.\n",
      "Error occurred for https://socialmediahub.mit.edu/: HTTPSConnectionPool(host='socialmediahub.mit.edu', port=443): Max retries exceeded with url: / (Caused by SSLError(SSLError(1, '[SSL: DH_KEY_TOO_SMALL] dh key too small (_ssl.c:1006)'))). Attempt 3 of 5.\n",
      "Error occurred for https://socialmediahub.mit.edu/: HTTPSConnectionPool(host='socialmediahub.mit.edu', port=443): Max retries exceeded with url: / (Caused by SSLError(SSLError(1, '[SSL: DH_KEY_TOO_SMALL] dh key too small (_ssl.c:1006)'))). Attempt 4 of 5.\n",
      "Error occurred for https://socialmediahub.mit.edu/: HTTPSConnectionPool(host='socialmediahub.mit.edu', port=443): Max retries exceeded with url: / (Caused by SSLError(SSLError(1, '[SSL: DH_KEY_TOO_SMALL] dh key too small (_ssl.c:1006)'))). Attempt 5 of 5.\n",
      "Skipping https://socialmediahub.mit.edu/ after 5 failed attempts.\n"
     ]
    },
    {
     "data": {
      "text/markdown": [
       "# Welcome to the MIT Universe: Where Science Meets Snacks!\n",
       "\n",
       "---\n",
       "\n",
       "## **Massachusetts Institute of Technology (MIT)**\n",
       "> *Education, Research, Innovation, and Weird Coffee* \n",
       "\n",
       "---\n",
       "\n",
       "### **Life at MIT: Crunching Numbers and Snacking on Knowledge!**\n",
       "At MIT, education is not just a serious affair; it’s an adventure! Picture this: late-night study sessions fueled by an endless supply of pizza and enough caffeine to power a small city. Students often pull all-nighters—fine-tuning robots, designing the next solar-powered toaster, or unraveling the mysteries of dark matter—while occasionally debating the merits of pineapple on pizza. Spoiler alert: It's not a popular opinion! 🍕 \n",
       "\n",
       "### **Research: Where the Magic Happens (with a dash of caffeine)!**\n",
       "Our researchers don’t just think outside the box; they build entire universities inside it! From AI models that could save the world to cracking the mysteries of supermassive black holes (and some that just aim to make a mean cup of joe), innovation is our bread and butter. All while making sure to keep some time free for our famous annual **MIT Mystery Hunt** - because who doesn’t like puzzling through sleep deprivation?\n",
       "\n",
       "### **Campus Life: Let's Get This Party Started!**\n",
       "- **Puzzles and Prizes:** Just when you thought puzzles were for kids, MIT throws three days of intense mind-bending fun your way! Get ready for brain teasers, sleep deprivation, and possibly some unexpected victory dances.\n",
       "- **Cool Clubs and Crazy Creations:** From makerspaces to rocketry clubs, don’t be surprised if you end up building a life-sized R2-D2 on a Wednesday night… that's a Tuesday too if time allows!\n",
       "  \n",
       "### **Customers: The World’s Problems!**\n",
       "Our students, alumni, and researchers tackle real-world issues like sustainable energy and blockchain technology—with the occasional superhero cape thrown in for good measure! 🌎🦸‍♂️ That's right! Whether it is a startup like NALA connecting artists with art buyers or our students venturing to Tsinghua University to change the course of global affairs, when we say we build a better world, we mean all hands on deck!\n",
       "\n",
       "### **Careers: Your Future Awaits (With Free Wi-Fi!)**\n",
       "Thinking about joining us? We are always on the lookout for innovative thinkers, problem solvers, and a few coffee lovers. Whether you’re a prospective student, an aspiring researcher, or someone who can code while singing show tunes, there’s a place for you at MIT. \n",
       "\n",
       "---\n",
       "\n",
       "### **Join Us!** \n",
       "Ready to jump into a world of science, social change, and sustenance? Apply now! Remember, the only thing we take seriously at MIT is… well, some things… *mostly*.\n",
       "\n",
       "---\n",
       "\n",
       "### **Connect with Us!**\n",
       "Got questions? Or you just really want to share those “I’m at MIT” selfies? Follow us on social media:\n",
       "\n",
       "- Twitter: [@mit](https://twitter.com/mit)\n",
       "- Facebook: [MIT](https://www.facebook.com/MIT)\n",
       "- Instagram: [@mit](https://www.instagram.com/mit)\n",
       "- YouTube: [MIT](https://www.youtube.com/mit)\n",
       "\n",
       "> *Disclaimer: MIT is not responsible for any spontaneous ideas that might make you want to revolutionize your kitchen—with robots!*"
      ],
      "text/plain": [
       "<IPython.core.display.Markdown object>"
      ]
     },
     "metadata": {},
     "output_type": "display_data"
    }
   ],
   "source": [
    "stream_brochure(\"Massachusetts Institute of Technology\", \"https://www.mit.edu/\")"
   ]
  },
  {
   "cell_type": "code",
   "execution_count": null,
   "metadata": {},
   "outputs": [],
   "source": []
  }
 ],
 "metadata": {
  "kernelspec": {
   "display_name": "llms",
   "language": "python",
   "name": "python3"
  },
  "language_info": {
   "codemirror_mode": {
    "name": "ipython",
    "version": 3
   },
   "file_extension": ".py",
   "mimetype": "text/x-python",
   "name": "python",
   "nbconvert_exporter": "python",
   "pygments_lexer": "ipython3",
   "version": "3.11.11"
  }
 },
 "nbformat": 4,
 "nbformat_minor": 2
}
