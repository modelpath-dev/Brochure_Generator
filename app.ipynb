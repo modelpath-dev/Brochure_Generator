{
 "cells": [
  {
   "cell_type": "code",
   "execution_count": 28,
   "metadata": {},
   "outputs": [],
   "source": [
    "import os\n",
    "import requests\n",
    "from bs4 import BeautifulSoup\n",
    "import json \n",
    "from dotenv import load_dotenv\n",
    "from typing import List\n",
    "from IPython.display import Markdown, display, update_display\n",
    "from openai import OpenAI"
   ]
  },
  {
   "cell_type": "code",
   "execution_count": 29,
   "metadata": {},
   "outputs": [
    {
     "name": "stdout",
     "output_type": "stream",
     "text": [
      "API key wrking fine\n"
     ]
    }
   ],
   "source": [
    "load_dotenv(override=True)\n",
    "api_key = os.getenv('OPENAI_API_KEY')\n",
    "\n",
    "if api_key and api_key.startswith('sk-proj-') and len(api_key)>10:\n",
    "    print(\"API key wrking fine\")\n",
    "else:\n",
    "    print(\"Check api key again\")\n",
    "    \n",
    "MODEL = 'gpt-4o-mini'\n",
    "openai = OpenAI()"
   ]
  },
  {
   "cell_type": "code",
   "execution_count": 30,
   "metadata": {},
   "outputs": [],
   "source": [
    "header={\n",
    "    'User-Agent': 'Mozilla/5.0 (Windows NT 10.0; Win64; x64) AppleWebKit/537.36 (KHTML, like Gecko) Chrome/117.0.0.0 Safari/537.36'\n",
    "}\n",
    "\n",
    "class Website:\n",
    "    def __init__(self,url):\n",
    "        self.url=url\n",
    "        response=requests.get(url, headers=header)\n",
    "        self.body=response.content\n",
    "        soup=BeautifulSoup(self.body, 'html.parser')\n",
    "        self.title=soup.title.string if soup.title else \"No title found\"\n",
    "        if soup.body:\n",
    "            for faaltu in soup.body(['script', 'style','img','input']):\n",
    "                faaltu.decompose()\n",
    "            self.text=soup.body.get_text(separator='\\n', strip=True)\n",
    "        else:\n",
    "            self.text=\"\"\n",
    "        links=[link.get('href') for link in soup.find_all('a')]\n",
    "        self.links=[link for link in links if link]\n",
    "\n",
    "    def get_contents(self):\n",
    "        return f\"Webpage Title:\\n{self.title}\\nWebpage Contents:\\n{self.text}\\n\\n\""
   ]
  },
  {
   "cell_type": "code",
   "execution_count": 31,
   "metadata": {},
   "outputs": [],
   "source": [
    "system_prompt=\"You are provided with a list of links found on a webpage. \\\n",
    "You are able to decide which of the links would be most relevant to include in a brochure about the company, \\\n",
    "such as links to an About page, or a Company page, or Careers/Jobs pages.\\n\"\n",
    "\n",
    "system_prompt+='You should respond in JSON as in this example:'\n",
    "system_prompt+=\"\"\"\n",
    "{\n",
    "    \"links\": [\n",
    "        {\"type\": \"about page\", \"url\": \"https://full.url/goes/here/about\"},\n",
    "        {\"type\": \"careers page\": \"url\": \"https://another.full.url/careers\"}\n",
    "    ]\n",
    "}\n",
    "\"\"\""
   ]
  },
  {
   "cell_type": "code",
   "execution_count": 32,
   "metadata": {},
   "outputs": [],
   "source": [
    "def get_user_prompt(website):\n",
    "    user_prompt=f'Here is the list of links on the website of {website.url} - '\n",
    "    user_prompt+=\"please decide which of these are relevant web links  for a brochure about the company, respond with the full https URL in JSON format. \\\n",
    "        do not include Terms of Service, Privacy, email links.\\n\"\n",
    "    user_prompt+=\"Links (some might be relative links):\\nGive the output strictly in python list form\"\n",
    "    user_prompt+=\"\\n\".join(website.links)\n",
    "\n",
    "    return user_prompt"
   ]
  },
  {
   "cell_type": "code",
   "execution_count": null,
   "metadata": {},
   "outputs": [],
   "source": []
  },
  {
   "cell_type": "code",
   "execution_count": 33,
   "metadata": {},
   "outputs": [],
   "source": [
    "def get_links(url):\n",
    "    website=Website(url)\n",
    "    response=openai.chat.completions.create(\n",
    "        model=MODEL,\n",
    "        messages=[\n",
    "            {\"role\": \"system\", \"content\":system_prompt},\n",
    "            {\"role\":\"user\", \"content\": get_user_prompt(website)}\n",
    "        ],\n",
    "\n",
    "            response_format={\"type\":\"json_object\"}\n",
    "    )\n",
    "    result=response.choices[0].message.content\n",
    "    return json.loads(result)\n",
    "    "
   ]
  },
  {
   "cell_type": "code",
   "execution_count": 34,
   "metadata": {},
   "outputs": [],
   "source": [
    "class ConnectTimeout(Exception):\n",
    "    \"\"\"Custom exception for connection timeout.\"\"\"\n",
    "    pass\n"
   ]
  },
  {
   "cell_type": "code",
   "execution_count": 35,
   "metadata": {},
   "outputs": [],
   "source": [
    "import time\n",
    "\n",
    "def retry(url, retries=5, delay=2):\n",
    "    for attempt in range(retries):\n",
    "        try:\n",
    "            return Website(url).get_contents()  \n",
    "        except (ConnectTimeout, TimeoutError, Exception) as e:\n",
    "            print(f\"Error occurred for {url}: {e}. Attempt {attempt + 1} of {retries}.\")\n",
    "            time.sleep(delay)  \n",
    "    print(f\"Skipping {url} after {retries} failed attempts.\")\n",
    "    return f\"Failed to retrieve contents for {url}\\n\"\n",
    "\n",
    "def get_details(url):\n",
    "    result = \"Landing page:\\n\"\n",
    "    result += retry(url)  \n",
    "    links = get_links(url)\n",
    "    print(\"Found links:\", links)\n",
    "    \n",
    "    key_to_check = next(iter(links), None) \n",
    "    \n",
    "    if key_to_check == 'links':\n",
    "        for link in links[\"links\"]:\n",
    "            result += f\"\\n\\n{link}\\n\"\n",
    "            result += retry(link)  \n",
    "    elif key_to_check == 'relevant_links':\n",
    "        for link in links[\"relevant_links\"]:\n",
    "            result += f\"\\n\\n{link}\\n\"\n",
    "            result += retry(link)  \n",
    "    else:\n",
    "        result += \"\\nNo relevant links found.\\n\"\n",
    "    \n",
    "    return result\n"
   ]
  },
  {
   "cell_type": "code",
   "execution_count": 36,
   "metadata": {},
   "outputs": [],
   "source": [
    "system_prompt = \"You are an assistant that analyzes the contents of several relevant pages from a website ( it can be company website, college club website, someone's portfolio) so be prepared \\\n",
    "and creates a short humorous, entertaining, jokey brochure about the company for prospective customers, investors and recruits. Respond in markdown.\\\n",
    "Include details of company culture, customers and careers/jobs if you have the information.\""
   ]
  },
  {
   "cell_type": "code",
   "execution_count": 37,
   "metadata": {},
   "outputs": [],
   "source": [
    "def brochure_user_prompt(company_name, url):\n",
    "    user_prompt = f\"You are looking at a company called: {company_name}\\n\"\n",
    "    user_prompt += f\"Here are the contents of its landing page and other relevant pages; use this information to build a professional brief brochure of the website in markdown.At footer always give the contacts link of their social media handles (except phone number) if available\\n\"\n",
    "    user_prompt += get_details(url)\n",
    "    user_prompt = user_prompt[:5_000] \n",
    "    return user_prompt"
   ]
  },
  {
   "cell_type": "code",
   "execution_count": 38,
   "metadata": {},
   "outputs": [],
   "source": [
    "def create_brochure(company_name, url):\n",
    "    response = openai.chat.completions.create(\n",
    "        model=MODEL,\n",
    "        messages=[\n",
    "            {\"role\": \"system\", \"content\": system_prompt},\n",
    "            {\"role\": \"user\", \"content\": brochure_user_prompt(company_name, url)}\n",
    "          ],\n",
    "    )\n",
    "    result = response.choices[0].message.content\n",
    "    display(Markdown(result))"
   ]
  },
  {
   "cell_type": "code",
   "execution_count": 39,
   "metadata": {},
   "outputs": [],
   "source": [
    "def stream_brochure(company_name, url):\n",
    "    stream = openai.chat.completions.create(\n",
    "        model=MODEL,\n",
    "        messages=[\n",
    "            {\"role\": \"system\", \"content\": system_prompt},\n",
    "            {\"role\": \"user\", \"content\": brochure_user_prompt(company_name, url)}\n",
    "          ],\n",
    "        stream=True\n",
    "    )\n",
    "    \n",
    "    response = \"\"\n",
    "    display_handle = display(Markdown(\"\"), display_id=True)\n",
    "    for chunk in stream:\n",
    "        response += chunk.choices[0].delta.content or ''\n",
    "        response = response.replace(\"```\",\"\").replace(\"markdown\", \"\")\n",
    "        update_display(Markdown(response), display_id=display_handle.display_id)"
   ]
  },
  {
   "cell_type": "code",
   "execution_count": 40,
   "metadata": {},
   "outputs": [
    {
     "name": "stdout",
     "output_type": "stream",
     "text": [
      "Found links: {'result': ['https://robovitics.in/#home', 'https://robovitics.in/#about-page', 'https://robovitics.in/#events-page', 'https://robovitics.in/#projects-page', 'https://robovitics.in/#orcus-page', 'https://robovitics.in/#kartavya-page', 'https://robovitics.in/#sponsors-page', 'https://robovitics.in/#memories', 'https://twitter.com/robo_vit', 'https://www.facebook.com/robovitics', 'https://www.instagram.com/robovitics/', 'https://www.linkedin.com/company/robovitics/', 'https://www.youtube.com/channel/UCFiwOI-W5b06NweratR-RdA', 'https://github.com/RoboVITics']}\n"
     ]
    },
    {
     "data": {
      "text/markdown": [
       "# RoboVitics: Where Robots go to Party and Innovate\n",
       "\n",
       "**Welcome to RoboVitics!** \n",
       "\n",
       "Are you ready to embark on the ultimate adventure of learning, growing, and battling it out with robots? You better be!\n",
       "\n",
       "---\n",
       "\n",
       "## About Us\n",
       "\n",
       "At RoboVitics, we live by two powerful mottos:  \n",
       "**“A place to learn, a chance to grow”** and **“Innovation is when Imagination meets Ambition.”** \n",
       "\n",
       "Founded in the hallowed halls of Vellore Institute of Technology (VIT) in 1984, our mission (should you choose to accept it) is to sprinkle a little tech magic and significantly improve students’ lives through exhilarating education and groundbreaking research. We bring together nerds, dreamers, and future tech magnates who want to unleash their inner creativity!\n",
       "\n",
       "---\n",
       "\n",
       "### Our Culture\n",
       "\n",
       "Picture this: Our club is a lively tech hive buzzing with energy, where you can learn while having a jolly good time! We host workshops, seminars, and all sorts of techie shenanigans to make every student feel right at home. But don’t just take our word for it, our previous members have left behind a legacy that would make even the Terminator proud!\n",
       "\n",
       "---\n",
       "\n",
       "## Events\n",
       "\n",
       "Grab your helmets and get ready for a whirlwind of fun at our electrifying events!\n",
       "\n",
       "#### **Equinox**\n",
       "36 hours of tech love, mentorship, and sharing ideas that’ll make your brain do cartwheels! \n",
       "\n",
       "#### **Vortex360**\n",
       "Where designers can get their creative juices flowing and make CAD magic happen! Who says design can’t dazzle?\n",
       "\n",
       "#### **Hands On Robotics**\n",
       "If you ever wanted to build a robot that obeys your every command (in a safe and lawful way, of course), this is your chance!\n",
       "\n",
       "#### **RoboWars**\n",
       "Prepare for glorious robotic combat! It’s like WWE—only with robots and less spandex. Witness sparks fly as metal crunches against metal! \n",
       "\n",
       "---\n",
       "\n",
       "## The Robo Family\n",
       "\n",
       "Our team is a curious blend of **Electrical Wizards**, **Mechanical Maestros**, **ML & AI Artists**, **Cybersecurity Sentries**, **Web Dev Whiz Kids**, and **App Dev Genies**. \n",
       "\n",
       "So, what are you waiting for? Join us at RoboVitics and help create the bots of tomorrow!\n",
       "\n",
       "---\n",
       "\n",
       "## Careers at RoboVitics\n",
       "\n",
       "Why work just anywhere when you can join a community that celebrates innovation and, dare we say, robot warfare?! Our members work on awe-inspiring projects that have brought us accolades from across the globe. If you’re passionate about tech, we have the perfect spot waiting just for you!\n",
       "\n",
       "---\n",
       "\n",
       "## Connect With Us \n",
       "\n",
       "We love sharing our adventures, successes, and the occasional cat meme—join us on our social media platforms to keep in touch! \n",
       "\n",
       "- **[Follow us on Facebook](#)**  \n",
       "- **[Check us out on Twitter](#)**  \n",
       "- **[Catch us on Instagram](#)**  \n",
       "- **[Join our LinkedIn](#)**  \n",
       "\n",
       "---\n",
       "\n",
       "**As the good old robot proverb goes, “Why just exist when you can innovate?” Join RoboVitics today!** 🤖✨"
      ],
      "text/plain": [
       "<IPython.core.display.Markdown object>"
      ]
     },
     "metadata": {},
     "output_type": "display_data"
    }
   ],
   "source": [
    "stream_brochure(\"RoboVitics\", \"https://robovitics.in/\")"
   ]
  },
  {
   "cell_type": "code",
   "execution_count": null,
   "metadata": {},
   "outputs": [],
   "source": []
  }
 ],
 "metadata": {
  "kernelspec": {
   "display_name": "llms",
   "language": "python",
   "name": "python3"
  },
  "language_info": {
   "codemirror_mode": {
    "name": "ipython",
    "version": 3
   },
   "file_extension": ".py",
   "mimetype": "text/x-python",
   "name": "python",
   "nbconvert_exporter": "python",
   "pygments_lexer": "ipython3",
   "version": "3.11.11"
  }
 },
 "nbformat": 4,
 "nbformat_minor": 2
}
